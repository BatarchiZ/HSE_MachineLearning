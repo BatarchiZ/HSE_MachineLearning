{
  "nbformat": 4,
  "nbformat_minor": 0,
  "metadata": {
    "colab": {
      "provenance": []
    },
    "kernelspec": {
      "name": "python3",
      "display_name": "Python 3"
    },
    "language_info": {
      "name": "python"
    }
  },
  "cells": [
    {
      "cell_type": "markdown",
      "source": [
        "<small><font color=gray>Notebook author: <a href=\"https://www.linkedin.com/in/olegmelnikov/\" target=\"_blank\">Oleg Melnikov</a> ©2021 onwards</font></small><hr style=\"margin:0;background-color:silver\">\n",
        "\n",
        "**[<font size=6>🌌Stellar</font>](https://www.kaggle.com/competitions/2oct23hse-stellar/rules)**. [**Instructions**](https://colab.research.google.com/drive/1riOGrE_Fv-yfIbM5V4pgJx4DWcd92cZr#scrollTo=ITaPDPIQEgXV) for running Colabs."
      ],
      "metadata": {
        "id": "q3pqxgX4DxeH"
      }
    },
    {
      "cell_type": "markdown",
      "source": [
        "<small>**(Optional) CONSENT.** <mark>[ X ]</mark> We consent to sharing our Colab (after the assignment ends) with other students/instructors for educational purposes. We understand that sharing is optional and this decision will not affect our grade in any way. <font color=gray><i>(If ok with sharing your Colab for educational purposes, leave \"X\" in the check box.)</i></font></small>"
      ],
      "metadata": {
        "id": "_dTfQBUZyNQK"
      }
    },
    {
      "cell_type": "code",
      "source": [
        "#from google.colab import drive; drive.mount('/content/drive')   # OK to enable, if your kaggle.json is stored in Google Drive"
      ],
      "metadata": {
        "id": "qrogZ_8bD9tZ"
      },
      "execution_count": null,
      "outputs": []
    },
    {
      "cell_type": "code",
      "execution_count": null,
      "metadata": {
        "id": "d8XoC8VqBXGs",
        "colab": {
          "base_uri": "https://localhost:8080/"
        },
        "outputId": "27d99cc6-4d7d-40c6-ff57-53e2beab4922"
      },
      "outputs": [
        {
          "output_type": "stream",
          "name": "stdout",
          "text": [
            "cp: cannot stat '/content/drive/MyDrive/kaggle.json': No such file or directory\n",
            "chmod: cannot access '/root/.kaggle/kaggle.json': No such file or directory\n",
            "Traceback (most recent call last):\n",
            "  File \"/usr/local/bin/kaggle\", line 5, in <module>\n",
            "    from kaggle.cli import main\n",
            "  File \"/usr/local/lib/python3.10/dist-packages/kaggle/__init__.py\", line 23, in <module>\n",
            "    api.authenticate()\n",
            "  File \"/usr/local/lib/python3.10/dist-packages/kaggle/api/kaggle_api_extended.py\", line 403, in authenticate\n",
            "    raise IOError('Could not find {}. Make sure it\\'s located in'\n",
            "OSError: Could not find kaggle.json. Make sure it's located in /root/.kaggle. Or use the environment method.\n",
            "Traceback (most recent call last):\n",
            "  File \"/usr/local/bin/kaggle\", line 5, in <module>\n",
            "    from kaggle.cli import main\n",
            "  File \"/usr/local/lib/python3.10/dist-packages/kaggle/__init__.py\", line 23, in <module>\n",
            "    api.authenticate()\n",
            "  File \"/usr/local/lib/python3.10/dist-packages/kaggle/api/kaggle_api_extended.py\", line 403, in authenticate\n",
            "    raise IOError('Could not find {}. Make sure it\\'s located in'\n",
            "OSError: Could not find kaggle.json. Make sure it's located in /root/.kaggle. Or use the environment method.\n",
            "unzip:  cannot find or open *.zip, *.zip.zip or *.zip.ZIP.\n",
            "\n",
            "No zipfiles found.\n",
            "Traceback (most recent call last):\n",
            "  File \"/usr/local/bin/kaggle\", line 5, in <module>\n",
            "    from kaggle.cli import main\n",
            "  File \"/usr/local/lib/python3.10/dist-packages/kaggle/__init__.py\", line 23, in <module>\n",
            "    api.authenticate()\n",
            "  File \"/usr/local/lib/python3.10/dist-packages/kaggle/api/kaggle_api_extended.py\", line 403, in authenticate\n",
            "    raise IOError('Could not find {}. Make sure it\\'s located in'\n",
            "OSError: Could not find kaggle.json. Make sure it's located in /root/.kaggle. Or use the environment method.\n"
          ]
        }
      ],
      "source": [
        "!pip -q install --upgrade --force-reinstall --no-deps kaggle > log  # upgrade kaggle package (to avoid a warning)\n",
        "!mkdir -p ~/.kaggle                                           # .kaggle folder must contain kaggle.json for kaggle executable to properly authenticate you to Kaggle.com\n",
        "!cp /content/drive/MyDrive/kaggle.json ~/.kaggle/kaggle.json >log  # First, download kaggle.json from kaggle.com (in Account page) and place it in the root of mounted Google Drive\n",
        "# !cp kaggle.json ~/.kaggle/kaggle.json > log                   # Alternative location of kaggle.json (without a connection to Google Drive)\n",
        "!chmod 600 ~/.kaggle/kaggle.json                              # give only the owner full read/write access to kaggle.json\n",
        "!kaggle config set -n competition -v 2oct23hse-stellar        # set the competition context for the next few kaggle API calls. !kaggle config view - shows current settings\n",
        "!kaggle competitions download >> log                          # download competition dataset as a zip file\n",
        "!unzip -o *.zip >> log                                        # Kaggle dataset is copied as a single file and needs to be unzipped.\n",
        "!kaggle competitions leaderboard --show                       # print public leaderboard"
      ]
    },
    {
      "cell_type": "code",
      "source": [
        "%%time\n",
        "%%capture\n",
        "%reset -f\n",
        "from IPython.core.interactiveshell import InteractiveShell as IS; IS.ast_node_interactivity = \"all\"\n",
        "import numpy as np, pandas as pd, time, matplotlib.pyplot as plt, seaborn as sns, os, tqdm, re, sys, cv2, skimage\n",
        "from sklearn.preprocessing import PolynomialFeatures\n",
        "from sklearn.linear_model import LogisticRegression as LR\n",
        "from sklearn.discriminant_analysis import QuadraticDiscriminantAnalysis as QDA, LinearDiscriminantAnalysis as LDA\n",
        "ToCSV = lambda df, fname: df.round(2).to_csv(f'{fname}.csv', index_label='id') # rounds values to 2 decimals\n",
        "\n",
        "class Timer():\n",
        "  def __init__(self, lim:'RunTimeLimit'=60): self.t0, self.lim, _ = time.time(), lim, print(f'⏳ started. You have {lim} sec. Good luck!')\n",
        "  def ShowTime(self):\n",
        "    msg = f'Runtime is {time.time()-self.t0:.0f} sec'\n",
        "    print(f'\\033[91m\\033[1m' + msg + f' > {self.lim} sec limit!!!\\033[0m' if (time.time()-self.t0-1) > self.lim else msg)\n",
        "\n",
        "np.set_printoptions(linewidth=100, precision=2, edgeitems=2, suppress=True)\n",
        "pd.set_option('display.max_columns', 20, 'display.precision', 2, 'display.max_rows', 4)"
      ],
      "metadata": {
        "id": "7CyC-JlZFga1",
        "colab": {
          "base_uri": "https://localhost:8080/"
        },
        "outputId": "f6b61147-c6bb-4e27-afe6-581ad413c17a"
      },
      "execution_count": null,
      "outputs": [
        {
          "output_type": "stream",
          "name": "stdout",
          "text": [
            "CPU times: user 263 ms, sys: 4.17 ms, total: 268 ms\n",
            "Wall time: 292 ms\n"
          ]
        }
      ]
    },
    {
      "cell_type": "code",
      "source": [
        "df = pd.read_csv('XY_Stellar.csv'); df"
      ],
      "metadata": {
        "id": "X00bQLb5FpxU",
        "colab": {
          "base_uri": "https://localhost:8080/",
          "height": 235
        },
        "outputId": "db4298de-5feb-470f-b93f-347032247dab"
      },
      "execution_count": null,
      "outputs": [
        {
          "output_type": "execute_result",
          "data": {
            "text/plain": [
              "         alpha  delta      u      g      r      i      z  run_ID  cam_col  \\\n",
              "0        11.64  21.28  26.28  26.15  24.05  18.87  19.00    8848        5   \n",
              "1       173.09  42.21  22.51  22.83  22.21  19.55  19.96    4156        3   \n",
              "...        ...    ...    ...    ...    ...    ...    ...     ...      ...   \n",
              "199998  131.31  44.27  24.07  24.64  21.63  19.20  19.03    7076        3   \n",
              "199999   22.59   0.25  25.30  25.56  24.09  19.41  19.96    5164        4   \n",
              "\n",
              "        field_ID  redshift  plate    MJD  fiber_ID Class  \n",
              "0            272      0.84   7740  56824       833   NaN  \n",
              "1            486      0.81   9041  58067       428   NaN  \n",
              "...          ...       ...    ...    ...       ...   ...  \n",
              "199998       251      0.55   6014  56166      1021     G  \n",
              "199999       511      1.26   9590  57969       878     G  \n",
              "\n",
              "[200000 rows x 15 columns]"
            ],
            "text/html": [
              "\n",
              "  <div id=\"df-baba2df5-b86e-403c-98ce-280f9d303f19\" class=\"colab-df-container\">\n",
              "    <div>\n",
              "<style scoped>\n",
              "    .dataframe tbody tr th:only-of-type {\n",
              "        vertical-align: middle;\n",
              "    }\n",
              "\n",
              "    .dataframe tbody tr th {\n",
              "        vertical-align: top;\n",
              "    }\n",
              "\n",
              "    .dataframe thead th {\n",
              "        text-align: right;\n",
              "    }\n",
              "</style>\n",
              "<table border=\"1\" class=\"dataframe\">\n",
              "  <thead>\n",
              "    <tr style=\"text-align: right;\">\n",
              "      <th></th>\n",
              "      <th>alpha</th>\n",
              "      <th>delta</th>\n",
              "      <th>u</th>\n",
              "      <th>g</th>\n",
              "      <th>r</th>\n",
              "      <th>i</th>\n",
              "      <th>z</th>\n",
              "      <th>run_ID</th>\n",
              "      <th>cam_col</th>\n",
              "      <th>field_ID</th>\n",
              "      <th>redshift</th>\n",
              "      <th>plate</th>\n",
              "      <th>MJD</th>\n",
              "      <th>fiber_ID</th>\n",
              "      <th>Class</th>\n",
              "    </tr>\n",
              "  </thead>\n",
              "  <tbody>\n",
              "    <tr>\n",
              "      <th>0</th>\n",
              "      <td>11.64</td>\n",
              "      <td>21.28</td>\n",
              "      <td>26.28</td>\n",
              "      <td>26.15</td>\n",
              "      <td>24.05</td>\n",
              "      <td>18.87</td>\n",
              "      <td>19.00</td>\n",
              "      <td>8848</td>\n",
              "      <td>5</td>\n",
              "      <td>272</td>\n",
              "      <td>0.84</td>\n",
              "      <td>7740</td>\n",
              "      <td>56824</td>\n",
              "      <td>833</td>\n",
              "      <td>NaN</td>\n",
              "    </tr>\n",
              "    <tr>\n",
              "      <th>1</th>\n",
              "      <td>173.09</td>\n",
              "      <td>42.21</td>\n",
              "      <td>22.51</td>\n",
              "      <td>22.83</td>\n",
              "      <td>22.21</td>\n",
              "      <td>19.55</td>\n",
              "      <td>19.96</td>\n",
              "      <td>4156</td>\n",
              "      <td>3</td>\n",
              "      <td>486</td>\n",
              "      <td>0.81</td>\n",
              "      <td>9041</td>\n",
              "      <td>58067</td>\n",
              "      <td>428</td>\n",
              "      <td>NaN</td>\n",
              "    </tr>\n",
              "    <tr>\n",
              "      <th>...</th>\n",
              "      <td>...</td>\n",
              "      <td>...</td>\n",
              "      <td>...</td>\n",
              "      <td>...</td>\n",
              "      <td>...</td>\n",
              "      <td>...</td>\n",
              "      <td>...</td>\n",
              "      <td>...</td>\n",
              "      <td>...</td>\n",
              "      <td>...</td>\n",
              "      <td>...</td>\n",
              "      <td>...</td>\n",
              "      <td>...</td>\n",
              "      <td>...</td>\n",
              "      <td>...</td>\n",
              "    </tr>\n",
              "    <tr>\n",
              "      <th>199998</th>\n",
              "      <td>131.31</td>\n",
              "      <td>44.27</td>\n",
              "      <td>24.07</td>\n",
              "      <td>24.64</td>\n",
              "      <td>21.63</td>\n",
              "      <td>19.20</td>\n",
              "      <td>19.03</td>\n",
              "      <td>7076</td>\n",
              "      <td>3</td>\n",
              "      <td>251</td>\n",
              "      <td>0.55</td>\n",
              "      <td>6014</td>\n",
              "      <td>56166</td>\n",
              "      <td>1021</td>\n",
              "      <td>G</td>\n",
              "    </tr>\n",
              "    <tr>\n",
              "      <th>199999</th>\n",
              "      <td>22.59</td>\n",
              "      <td>0.25</td>\n",
              "      <td>25.30</td>\n",
              "      <td>25.56</td>\n",
              "      <td>24.09</td>\n",
              "      <td>19.41</td>\n",
              "      <td>19.96</td>\n",
              "      <td>5164</td>\n",
              "      <td>4</td>\n",
              "      <td>511</td>\n",
              "      <td>1.26</td>\n",
              "      <td>9590</td>\n",
              "      <td>57969</td>\n",
              "      <td>878</td>\n",
              "      <td>G</td>\n",
              "    </tr>\n",
              "  </tbody>\n",
              "</table>\n",
              "<p>200000 rows × 15 columns</p>\n",
              "</div>\n",
              "    <div class=\"colab-df-buttons\">\n",
              "\n",
              "  <div class=\"colab-df-container\">\n",
              "    <button class=\"colab-df-convert\" onclick=\"convertToInteractive('df-baba2df5-b86e-403c-98ce-280f9d303f19')\"\n",
              "            title=\"Convert this dataframe to an interactive table.\"\n",
              "            style=\"display:none;\">\n",
              "\n",
              "  <svg xmlns=\"http://www.w3.org/2000/svg\" height=\"24px\" viewBox=\"0 -960 960 960\">\n",
              "    <path d=\"M120-120v-720h720v720H120Zm60-500h600v-160H180v160Zm220 220h160v-160H400v160Zm0 220h160v-160H400v160ZM180-400h160v-160H180v160Zm440 0h160v-160H620v160ZM180-180h160v-160H180v160Zm440 0h160v-160H620v160Z\"/>\n",
              "  </svg>\n",
              "    </button>\n",
              "\n",
              "  <style>\n",
              "    .colab-df-container {\n",
              "      display:flex;\n",
              "      gap: 12px;\n",
              "    }\n",
              "\n",
              "    .colab-df-convert {\n",
              "      background-color: #E8F0FE;\n",
              "      border: none;\n",
              "      border-radius: 50%;\n",
              "      cursor: pointer;\n",
              "      display: none;\n",
              "      fill: #1967D2;\n",
              "      height: 32px;\n",
              "      padding: 0 0 0 0;\n",
              "      width: 32px;\n",
              "    }\n",
              "\n",
              "    .colab-df-convert:hover {\n",
              "      background-color: #E2EBFA;\n",
              "      box-shadow: 0px 1px 2px rgba(60, 64, 67, 0.3), 0px 1px 3px 1px rgba(60, 64, 67, 0.15);\n",
              "      fill: #174EA6;\n",
              "    }\n",
              "\n",
              "    .colab-df-buttons div {\n",
              "      margin-bottom: 4px;\n",
              "    }\n",
              "\n",
              "    [theme=dark] .colab-df-convert {\n",
              "      background-color: #3B4455;\n",
              "      fill: #D2E3FC;\n",
              "    }\n",
              "\n",
              "    [theme=dark] .colab-df-convert:hover {\n",
              "      background-color: #434B5C;\n",
              "      box-shadow: 0px 1px 3px 1px rgba(0, 0, 0, 0.15);\n",
              "      filter: drop-shadow(0px 1px 2px rgba(0, 0, 0, 0.3));\n",
              "      fill: #FFFFFF;\n",
              "    }\n",
              "  </style>\n",
              "\n",
              "    <script>\n",
              "      const buttonEl =\n",
              "        document.querySelector('#df-baba2df5-b86e-403c-98ce-280f9d303f19 button.colab-df-convert');\n",
              "      buttonEl.style.display =\n",
              "        google.colab.kernel.accessAllowed ? 'block' : 'none';\n",
              "\n",
              "      async function convertToInteractive(key) {\n",
              "        const element = document.querySelector('#df-baba2df5-b86e-403c-98ce-280f9d303f19');\n",
              "        const dataTable =\n",
              "          await google.colab.kernel.invokeFunction('convertToInteractive',\n",
              "                                                    [key], {});\n",
              "        if (!dataTable) return;\n",
              "\n",
              "        const docLinkHtml = 'Like what you see? Visit the ' +\n",
              "          '<a target=\"_blank\" href=https://colab.research.google.com/notebooks/data_table.ipynb>data table notebook</a>'\n",
              "          + ' to learn more about interactive tables.';\n",
              "        element.innerHTML = '';\n",
              "        dataTable['output_type'] = 'display_data';\n",
              "        await google.colab.output.renderOutput(dataTable, element);\n",
              "        const docLink = document.createElement('div');\n",
              "        docLink.innerHTML = docLinkHtml;\n",
              "        element.appendChild(docLink);\n",
              "      }\n",
              "    </script>\n",
              "  </div>\n",
              "\n",
              "\n",
              "<div id=\"df-3bc40ccd-a34a-459c-ad09-838e4194ea31\">\n",
              "  <button class=\"colab-df-quickchart\" onclick=\"quickchart('df-3bc40ccd-a34a-459c-ad09-838e4194ea31')\"\n",
              "            title=\"Suggest charts.\"\n",
              "            style=\"display:none;\">\n",
              "\n",
              "<svg xmlns=\"http://www.w3.org/2000/svg\" height=\"24px\"viewBox=\"0 0 24 24\"\n",
              "     width=\"24px\">\n",
              "    <g>\n",
              "        <path d=\"M19 3H5c-1.1 0-2 .9-2 2v14c0 1.1.9 2 2 2h14c1.1 0 2-.9 2-2V5c0-1.1-.9-2-2-2zM9 17H7v-7h2v7zm4 0h-2V7h2v10zm4 0h-2v-4h2v4z\"/>\n",
              "    </g>\n",
              "</svg>\n",
              "  </button>\n",
              "\n",
              "<style>\n",
              "  .colab-df-quickchart {\n",
              "      --bg-color: #E8F0FE;\n",
              "      --fill-color: #1967D2;\n",
              "      --hover-bg-color: #E2EBFA;\n",
              "      --hover-fill-color: #174EA6;\n",
              "      --disabled-fill-color: #AAA;\n",
              "      --disabled-bg-color: #DDD;\n",
              "  }\n",
              "\n",
              "  [theme=dark] .colab-df-quickchart {\n",
              "      --bg-color: #3B4455;\n",
              "      --fill-color: #D2E3FC;\n",
              "      --hover-bg-color: #434B5C;\n",
              "      --hover-fill-color: #FFFFFF;\n",
              "      --disabled-bg-color: #3B4455;\n",
              "      --disabled-fill-color: #666;\n",
              "  }\n",
              "\n",
              "  .colab-df-quickchart {\n",
              "    background-color: var(--bg-color);\n",
              "    border: none;\n",
              "    border-radius: 50%;\n",
              "    cursor: pointer;\n",
              "    display: none;\n",
              "    fill: var(--fill-color);\n",
              "    height: 32px;\n",
              "    padding: 0;\n",
              "    width: 32px;\n",
              "  }\n",
              "\n",
              "  .colab-df-quickchart:hover {\n",
              "    background-color: var(--hover-bg-color);\n",
              "    box-shadow: 0 1px 2px rgba(60, 64, 67, 0.3), 0 1px 3px 1px rgba(60, 64, 67, 0.15);\n",
              "    fill: var(--button-hover-fill-color);\n",
              "  }\n",
              "\n",
              "  .colab-df-quickchart-complete:disabled,\n",
              "  .colab-df-quickchart-complete:disabled:hover {\n",
              "    background-color: var(--disabled-bg-color);\n",
              "    fill: var(--disabled-fill-color);\n",
              "    box-shadow: none;\n",
              "  }\n",
              "\n",
              "  .colab-df-spinner {\n",
              "    border: 2px solid var(--fill-color);\n",
              "    border-color: transparent;\n",
              "    border-bottom-color: var(--fill-color);\n",
              "    animation:\n",
              "      spin 1s steps(1) infinite;\n",
              "  }\n",
              "\n",
              "  @keyframes spin {\n",
              "    0% {\n",
              "      border-color: transparent;\n",
              "      border-bottom-color: var(--fill-color);\n",
              "      border-left-color: var(--fill-color);\n",
              "    }\n",
              "    20% {\n",
              "      border-color: transparent;\n",
              "      border-left-color: var(--fill-color);\n",
              "      border-top-color: var(--fill-color);\n",
              "    }\n",
              "    30% {\n",
              "      border-color: transparent;\n",
              "      border-left-color: var(--fill-color);\n",
              "      border-top-color: var(--fill-color);\n",
              "      border-right-color: var(--fill-color);\n",
              "    }\n",
              "    40% {\n",
              "      border-color: transparent;\n",
              "      border-right-color: var(--fill-color);\n",
              "      border-top-color: var(--fill-color);\n",
              "    }\n",
              "    60% {\n",
              "      border-color: transparent;\n",
              "      border-right-color: var(--fill-color);\n",
              "    }\n",
              "    80% {\n",
              "      border-color: transparent;\n",
              "      border-right-color: var(--fill-color);\n",
              "      border-bottom-color: var(--fill-color);\n",
              "    }\n",
              "    90% {\n",
              "      border-color: transparent;\n",
              "      border-bottom-color: var(--fill-color);\n",
              "    }\n",
              "  }\n",
              "</style>\n",
              "\n",
              "  <script>\n",
              "    async function quickchart(key) {\n",
              "      const quickchartButtonEl =\n",
              "        document.querySelector('#' + key + ' button');\n",
              "      quickchartButtonEl.disabled = true;  // To prevent multiple clicks.\n",
              "      quickchartButtonEl.classList.add('colab-df-spinner');\n",
              "      try {\n",
              "        const charts = await google.colab.kernel.invokeFunction(\n",
              "            'suggestCharts', [key], {});\n",
              "      } catch (error) {\n",
              "        console.error('Error during call to suggestCharts:', error);\n",
              "      }\n",
              "      quickchartButtonEl.classList.remove('colab-df-spinner');\n",
              "      quickchartButtonEl.classList.add('colab-df-quickchart-complete');\n",
              "    }\n",
              "    (() => {\n",
              "      let quickchartButtonEl =\n",
              "        document.querySelector('#df-3bc40ccd-a34a-459c-ad09-838e4194ea31 button');\n",
              "      quickchartButtonEl.style.display =\n",
              "        google.colab.kernel.accessAllowed ? 'block' : 'none';\n",
              "    })();\n",
              "  </script>\n",
              "</div>\n",
              "    </div>\n",
              "  </div>\n"
            ]
          },
          "metadata": {},
          "execution_count": 140
        }
      ]
    },
    {
      "cell_type": "code",
      "source": [
        "df.info()   # observe datatypes and any missing values"
      ],
      "metadata": {
        "id": "fFp0IV3BJR9_",
        "colab": {
          "base_uri": "https://localhost:8080/"
        },
        "outputId": "dc15990e-e9d9-4e71-e579-0b485d243f91"
      },
      "execution_count": null,
      "outputs": [
        {
          "output_type": "stream",
          "name": "stdout",
          "text": [
            "<class 'pandas.core.frame.DataFrame'>\n",
            "RangeIndex: 200000 entries, 0 to 199999\n",
            "Data columns (total 15 columns):\n",
            " #   Column    Non-Null Count   Dtype  \n",
            "---  ------    --------------   -----  \n",
            " 0   alpha     200000 non-null  float64\n",
            " 1   delta     200000 non-null  float64\n",
            " 2   u         200000 non-null  float64\n",
            " 3   g         200000 non-null  float64\n",
            " 4   r         200000 non-null  float64\n",
            " 5   i         200000 non-null  float64\n",
            " 6   z         200000 non-null  float64\n",
            " 7   run_ID    200000 non-null  int64  \n",
            " 8   cam_col   200000 non-null  int64  \n",
            " 9   field_ID  200000 non-null  int64  \n",
            " 10  redshift  200000 non-null  float64\n",
            " 11  plate     200000 non-null  int64  \n",
            " 12  MJD       200000 non-null  int64  \n",
            " 13  fiber_ID  200000 non-null  int64  \n",
            " 14  Class     160000 non-null  object \n",
            "dtypes: float64(8), int64(6), object(1)\n",
            "memory usage: 22.9+ MB\n"
          ]
        }
      ]
    },
    {
      "cell_type": "code",
      "source": [
        "# Change string labels to numbers in order of increasing size of the entity (Star < Quasi Star < Galaxy)\n",
        "# df.Class = df.Class.apply(lambda C: -1 if C=='S' else 0 if C=='Q' else 1 if C=='G' else None)"
      ],
      "metadata": {
        "id": "UDA4wJqELlOR"
      },
      "execution_count": null,
      "outputs": []
    },
    {
      "cell_type": "code",
      "source": [
        "vX = df.query('Class!=Class').drop('Class', axis=1)  # slice a test sample\n",
        "tXY = df.query('Class==Class')                       # slice training sample\n",
        "tX, tY = tXY.drop('Class', axis=1), tXY.Class        # split into training I/O"
      ],
      "metadata": {
        "id": "f7OuVizOFsFF"
      },
      "execution_count": null,
      "outputs": []
    },
    {
      "cell_type": "code",
      "source": [
        "def ScatterCorrHist(df):\n",
        "  def corrdot(*args, **kwargs):\n",
        "    # credit: https://stackoverflow.com/questions/48139899\n",
        "    corr_r = args[0].corr(args[1], 'pearson')\n",
        "    corr_text = f\"{corr_r:2.2f}\".replace(\"0.\", \".\")\n",
        "    ax = plt.gca();\n",
        "    ax.set_axis_off();\n",
        "    msz = abs(corr_r) * 5000   # marker size\n",
        "    fsz = abs(corr_r) * 40 + 5 # font size\n",
        "    ax.scatter([.5], [.5], msz, [corr_r], alpha=0.5, cmap='coolwarm', vmin=-1, vmax=1, transform=ax.transAxes)\n",
        "    ax.annotate(corr_text, [.5, .5,],  xycoords=\"axes fraction\", ha='center', va='center', fontsize=fsz)\n",
        "\n",
        "  sns.set(style='white', font_scale=.8);\n",
        "  g = sns.PairGrid(df, aspect=1, diag_sharey=False);\n",
        "  g.fig.set_size_inches(20,10)\n",
        "  g.map_lower(sns.regplot, lowess=True, ci=False, line_kws={'color':'red'}, scatter_kws={'s':1});\n",
        "  g.map_diag(sns.histplot, kde_kws={'color':'black'});\n",
        "  g.map_upper(corrdot);\n",
        "  g.fig.suptitle(\"Scatter plot, Correlations and histograms on diagonal\", y=1);\n",
        "  _ = plt.subplots_adjust(hspace=0.02, wspace=0.02);\n",
        "  _ = plt.show();\n",
        "\n",
        "# ScatterCorrHist(tXY.head(200))"
      ],
      "metadata": {
        "id": "i4gelET6Hb2A"
      },
      "execution_count": null,
      "outputs": []
    },
    {
      "cell_type": "code",
      "source": [
        "tmr = Timer()"
      ],
      "metadata": {
        "id": "z4_C58bbHuja",
        "colab": {
          "base_uri": "https://localhost:8080/"
        },
        "outputId": "a3a34079-cde8-468f-e1f3-c6a2f03198e6"
      },
      "execution_count": null,
      "outputs": [
        {
          "output_type": "stream",
          "name": "stdout",
          "text": [
            "⏳ started. You have 60 sec. Good luck!\n"
          ]
        }
      ]
    },
    {
      "cell_type": "markdown",
      "metadata": {
        "id": "8THm9TM34I9D"
      },
      "source": [
        "<hr color=green size=40>\n",
        "\n",
        "<strong><font color=green size=5>⏳Timed Green Playground (TGP): Your ideas, code, documentation, and timer START HERE!</font></strong>\n",
        "\n",
        "<font color=green>Students: Keep all your definitions, code, documentation in <b>TGP</b>. Modifying any code outside of TGP incurs penalties."
      ]
    },
    {
      "cell_type": "markdown",
      "source": [],
      "metadata": {
        "id": "YjJU3JE5ydAH"
      }
    },
    {
      "cell_type": "markdown",
      "metadata": {
        "id": "YL0qU34j4I9D"
      },
      "source": [
        "<font color=green><h3><b>$\\alpha$. Build polynomial features</b><h3>"
      ]
    },
    {
      "cell_type": "code",
      "source": [
        "from sklearn.preprocessing import StandardScaler\n",
        "from collections import Counter\n",
        "\n",
        "np.random.seed(0)\n",
        "vX0, vY0 = tX.iloc[140000:,:], tY[140000:] # subsample for model selection experiments\n",
        "fX0, fY0 = tX.iloc[120000:140000,:], tY[120000:140000]"
      ],
      "metadata": {
        "id": "ak8DDjxkDheH"
      },
      "execution_count": null,
      "outputs": []
    },
    {
      "cell_type": "code",
      "source": [
        "dfcpy = df\n",
        "df = df.drop('field_ID', axis=1)\n",
        "df = df.drop('fiber_ID', axis=1)\n",
        "df = df.drop('run_ID', axis=1)\n",
        "df = df.drop('plate', axis=1)"
      ],
      "metadata": {
        "id": "sY-ZN9mEQB4o"
      },
      "execution_count": null,
      "outputs": []
    },
    {
      "cell_type": "code",
      "source": [
        "def k_QDA(df, l, r):\n",
        "  # Subsampling\n",
        "  vX = df.query('Class!=Class').drop('Class', axis=1)  # slice a test sample\n",
        "  tXY = df.query('Class==Class')                       # slice training sample\n",
        "  tX, tY = tXY.drop('Class', axis=1), tXY.Class        # split into training I/O\n",
        "\n",
        "\n",
        "  tX0, tY0 = tX.iloc[l:r,:], tY[l:r]   # subsample for model selection experiments\n",
        "  vX0, vY0 = tX.iloc[140000:,:], tY[140000:] # subsample for model selection experiments\n",
        "  fX0, fY0 = tX.iloc[120000:140000,:], tY[120000:140000]\n",
        "\n",
        "  # ModelPipeline\n",
        "  scaler = StandardScaler()\n",
        "  tX0 = scaler.fit_transform(tX0)\n",
        "  vX0 = scaler.transform(vX0)\n",
        "  vX  = scaler.transform(vX)\n",
        "  fX0 = scaler.transform(fX0)\n",
        "\n",
        "  poly = PolynomialFeatures(degree=3)    # add non-linear features (powers and interactions)\n",
        "  tX0p = poly.fit_transform(tX0)  # create object on training set\n",
        "  vX0p = poly.transform(vX0)      # apply the same object to test set\n",
        "  vXp  = poly.transform(vX)       # apply the same object to test set\n",
        "  fX0 = poly.transform(fX0)\n",
        "\n",
        "  mQDA = QDA()\n",
        "  mQDA = mQDA.fit(tX0p, tY0)\n",
        "\n",
        "  # Predictions\n",
        "  QDA_y_pred = mQDA.predict(vX0p)\n",
        "  f_QDA_y_pred = mQDA.predict(fX0)\n",
        "  f_QDA_y_kaggle = mQDA.predict(vXp)\n",
        "\n",
        "  return QDA_y_pred, f_QDA_y_pred, f_QDA_y_kaggle"
      ],
      "metadata": {
        "id": "9xMWGVoG-FZs"
      },
      "execution_count": null,
      "outputs": []
    },
    {
      "cell_type": "code",
      "source": [
        "def k_LR(df, l, r):\n",
        "    # Subsampling\n",
        "    vX = df.query('Class!=Class').drop('Class', axis=1)  # slice a test sample\n",
        "    tXY = df.query('Class==Class')                       # slice training sample\n",
        "    tX, tY = tXY.drop('Class', axis=1), tXY.Class        # split into training I/O\n",
        "\n",
        "    tX0, tY0 = tX.iloc[l:r,:], tY[l:r]   # subsample for model selection experiments\n",
        "    vX0, vY0 = tX.iloc[140000:,:], tY[140000:] # subsample for model selection experiments\n",
        "    fX0, fY0 = tX.iloc[120000:140000,:], tY[120000:140000]\n",
        "\n",
        "    # ModelPipeline\n",
        "    scaler = StandardScaler()\n",
        "    tX0 = scaler.fit_transform(tX0)\n",
        "    vX0 = scaler.transform(vX0)\n",
        "    vX  = scaler.transform(vX)\n",
        "    fX0 = scaler.transform(fX0)\n",
        "\n",
        "    poly = PolynomialFeatures(degree=3)    # add non-linear features (powers and interactions)\n",
        "    tX0p = poly.fit_transform(tX0)  # create object on training set\n",
        "    vX0p = poly.transform(vX0)      # apply the same object to test set\n",
        "    vXp  = poly.transform(vX)       # apply the same object to test set\n",
        "    fX0 = poly.transform(fX0)\n",
        "\n",
        "    mlogreg = LR(random_state=0, C=25, max_iter=100)\n",
        "    mlogreg = mlogreg.fit(tX0p, tY0)\n",
        "\n",
        "    # Predictions\n",
        "    logreg_y_pred = mlogreg.predict(vX0p)\n",
        "    f_logreg_y_pred = mlogreg.predict(fX0)\n",
        "    f_logreg_y_kaggle = mlogreg.predict(vXp)\n",
        "\n",
        "    return logreg_y_pred, f_logreg_y_pred, f_logreg_y_kaggle"
      ],
      "metadata": {
        "id": "Xc2sPySuCcaz"
      },
      "execution_count": null,
      "outputs": []
    },
    {
      "cell_type": "markdown",
      "source": [
        "<font color=green><h3><b>$\\beta$. Fit a model</b><h3>"
      ],
      "metadata": {
        "id": "heSPJxbW4PPA"
      }
    },
    {
      "cell_type": "code",
      "source": [
        "%%time\n",
        "import warnings\n",
        "warnings.filterwarnings('ignore')\n",
        "\n",
        "m2, f_m2, f_log_reg_y_kaggle = k_LR(df, 0, 30000)\n",
        "m3, f_m3, f_QDA_y_kaggle = k_QDA(df, 25000, 55000)\n",
        "\n",
        "m5, f_m5, f_log_reg_y_kaggle2 = k_LR(df, 50000, 80000)\n",
        "\n",
        "m4, f_m4, f_QDA_y_kaggle2 = k_QDA(df, 75000, 100000)\n"
      ],
      "metadata": {
        "id": "dvDuSeWghewq",
        "colab": {
          "base_uri": "https://localhost:8080/"
        },
        "outputId": "eb7cd44c-8b2e-4a7c-bd3c-531e21347c46"
      },
      "execution_count": null,
      "outputs": [
        {
          "output_type": "stream",
          "name": "stdout",
          "text": [
            "CPU times: user 35.1 s, sys: 11 s, total: 46.1 s\n",
            "Wall time: 54.5 s\n"
          ]
        }
      ]
    },
    {
      "cell_type": "markdown",
      "source": [
        "<font color=green><h3><b>$\\gamma$. Make predictions</b><h3>"
      ],
      "metadata": {
        "id": "BoEDuiFy4UU9"
      }
    },
    {
      "cell_type": "code",
      "source": [
        "from sklearn.model_selection import train_test_split\n",
        "from sklearn.metrics import accuracy_score\n",
        "from sklearn.preprocessing import LabelEncoder, OneHotEncoder\n",
        "\n",
        "# Encode the categorical labels into numerical values\n",
        "label_encoder = LabelEncoder()\n",
        "y_train = label_encoder.fit_transform(vY0)\n",
        "y_test = label_encoder.transform(fY0)\n",
        "\n",
        "# One-hot encode the features\n",
        "encoder = OneHotEncoder(sparse=False, dtype=np.int)\n",
        "X_train = np.array([m2, m3, m4, m5])\n",
        "X_train = encoder.fit_transform(X_train.T)\n",
        "X_train = np.hstack((X_train, vX0))\n",
        "\n",
        "X_test = np.array([f_m2, f_m3, f_m4, f_m5])\n",
        "X_test = encoder.transform(X_test.T)\n",
        "X_test = np.hstack((X_test, fX0))\n",
        "\n",
        "# Standard scaling\n",
        "scaler = StandardScaler()\n",
        "X_train_scaled = scaler.fit_transform(X_train)\n",
        "X_test_scaled = scaler.transform(X_test)\n",
        "\n",
        "# Polynomial features\n",
        "poly = PolynomialFeatures(degree=2)\n",
        "X_train_poly = poly.fit_transform(X_train_scaled)\n",
        "X_test_poly = poly.transform(X_test_scaled)\n",
        "\n",
        "# Train a LogisticRegression model as an example\n",
        "clf = LDA()\n",
        "clf.fit(X_train_poly, y_train)\n",
        "\n",
        "# Make predictions on the testing set\n",
        "final_predictions_encoded = clf.predict(X_test_poly)\n",
        "\n",
        "# Decode the predictions back to categorical labels\n",
        "final_predictions = label_encoder.inverse_transform(final_predictions_encoded)\n",
        "\n",
        "# Calculate accuracy\n",
        "accuracy = accuracy_score(label_encoder.inverse_transform(y_test), final_predictions)\n",
        "print(\"Accuracy:\", accuracy)\n"
      ],
      "metadata": {
        "id": "QDmhhJfnL9uG",
        "colab": {
          "base_uri": "https://localhost:8080/",
          "height": 92
        },
        "outputId": "cbef264f-c89d-477a-8f8a-f6d1971620e8"
      },
      "execution_count": null,
      "outputs": [
        {
          "output_type": "execute_result",
          "data": {
            "text/plain": [
              "LinearDiscriminantAnalysis()"
            ],
            "text/html": [
              "<style>#sk-container-id-9 {color: black;background-color: white;}#sk-container-id-9 pre{padding: 0;}#sk-container-id-9 div.sk-toggleable {background-color: white;}#sk-container-id-9 label.sk-toggleable__label {cursor: pointer;display: block;width: 100%;margin-bottom: 0;padding: 0.3em;box-sizing: border-box;text-align: center;}#sk-container-id-9 label.sk-toggleable__label-arrow:before {content: \"▸\";float: left;margin-right: 0.25em;color: #696969;}#sk-container-id-9 label.sk-toggleable__label-arrow:hover:before {color: black;}#sk-container-id-9 div.sk-estimator:hover label.sk-toggleable__label-arrow:before {color: black;}#sk-container-id-9 div.sk-toggleable__content {max-height: 0;max-width: 0;overflow: hidden;text-align: left;background-color: #f0f8ff;}#sk-container-id-9 div.sk-toggleable__content pre {margin: 0.2em;color: black;border-radius: 0.25em;background-color: #f0f8ff;}#sk-container-id-9 input.sk-toggleable__control:checked~div.sk-toggleable__content {max-height: 200px;max-width: 100%;overflow: auto;}#sk-container-id-9 input.sk-toggleable__control:checked~label.sk-toggleable__label-arrow:before {content: \"▾\";}#sk-container-id-9 div.sk-estimator input.sk-toggleable__control:checked~label.sk-toggleable__label {background-color: #d4ebff;}#sk-container-id-9 div.sk-label input.sk-toggleable__control:checked~label.sk-toggleable__label {background-color: #d4ebff;}#sk-container-id-9 input.sk-hidden--visually {border: 0;clip: rect(1px 1px 1px 1px);clip: rect(1px, 1px, 1px, 1px);height: 1px;margin: -1px;overflow: hidden;padding: 0;position: absolute;width: 1px;}#sk-container-id-9 div.sk-estimator {font-family: monospace;background-color: #f0f8ff;border: 1px dotted black;border-radius: 0.25em;box-sizing: border-box;margin-bottom: 0.5em;}#sk-container-id-9 div.sk-estimator:hover {background-color: #d4ebff;}#sk-container-id-9 div.sk-parallel-item::after {content: \"\";width: 100%;border-bottom: 1px solid gray;flex-grow: 1;}#sk-container-id-9 div.sk-label:hover label.sk-toggleable__label {background-color: #d4ebff;}#sk-container-id-9 div.sk-serial::before {content: \"\";position: absolute;border-left: 1px solid gray;box-sizing: border-box;top: 0;bottom: 0;left: 50%;z-index: 0;}#sk-container-id-9 div.sk-serial {display: flex;flex-direction: column;align-items: center;background-color: white;padding-right: 0.2em;padding-left: 0.2em;position: relative;}#sk-container-id-9 div.sk-item {position: relative;z-index: 1;}#sk-container-id-9 div.sk-parallel {display: flex;align-items: stretch;justify-content: center;background-color: white;position: relative;}#sk-container-id-9 div.sk-item::before, #sk-container-id-9 div.sk-parallel-item::before {content: \"\";position: absolute;border-left: 1px solid gray;box-sizing: border-box;top: 0;bottom: 0;left: 50%;z-index: -1;}#sk-container-id-9 div.sk-parallel-item {display: flex;flex-direction: column;z-index: 1;position: relative;background-color: white;}#sk-container-id-9 div.sk-parallel-item:first-child::after {align-self: flex-end;width: 50%;}#sk-container-id-9 div.sk-parallel-item:last-child::after {align-self: flex-start;width: 50%;}#sk-container-id-9 div.sk-parallel-item:only-child::after {width: 0;}#sk-container-id-9 div.sk-dashed-wrapped {border: 1px dashed gray;margin: 0 0.4em 0.5em 0.4em;box-sizing: border-box;padding-bottom: 0.4em;background-color: white;}#sk-container-id-9 div.sk-label label {font-family: monospace;font-weight: bold;display: inline-block;line-height: 1.2em;}#sk-container-id-9 div.sk-label-container {text-align: center;}#sk-container-id-9 div.sk-container {/* jupyter's `normalize.less` sets `[hidden] { display: none; }` but bootstrap.min.css set `[hidden] { display: none !important; }` so we also need the `!important` here to be able to override the default hidden behavior on the sphinx rendered scikit-learn.org. See: https://github.com/scikit-learn/scikit-learn/issues/21755 */display: inline-block !important;position: relative;}#sk-container-id-9 div.sk-text-repr-fallback {display: none;}</style><div id=\"sk-container-id-9\" class=\"sk-top-container\"><div class=\"sk-text-repr-fallback\"><pre>LinearDiscriminantAnalysis()</pre><b>In a Jupyter environment, please rerun this cell to show the HTML representation or trust the notebook. <br />On GitHub, the HTML representation is unable to render, please try loading this page with nbviewer.org.</b></div><div class=\"sk-container\" hidden><div class=\"sk-item\"><div class=\"sk-estimator sk-toggleable\"><input class=\"sk-toggleable__control sk-hidden--visually\" id=\"sk-estimator-id-9\" type=\"checkbox\" checked><label for=\"sk-estimator-id-9\" class=\"sk-toggleable__label sk-toggleable__label-arrow\">LinearDiscriminantAnalysis</label><div class=\"sk-toggleable__content\"><pre>LinearDiscriminantAnalysis()</pre></div></div></div></div></div>"
            ]
          },
          "metadata": {},
          "execution_count": 151
        },
        {
          "output_type": "stream",
          "name": "stdout",
          "text": [
            "Accuracy: 0.97015\n"
          ]
        }
      ]
    },
    {
      "cell_type": "code",
      "source": [
        "# Using the final classifier\n",
        "X_test_kaggle = np.array([f_log_reg_y_kaggle, f_QDA_y_kaggle, f_log_reg_y_kaggle2, f_QDA_y_kaggle2])\n",
        "X_test_kaggle = encoder.transform(X_test_kaggle.T)\n",
        "X_test_kaggle = np.hstack((X_test_kaggle, vX))\n",
        "X_test_kaggle = scaler.transform(X_test_kaggle)\n",
        "X_test_kaggle = poly.transform(X_test_kaggle)\n",
        "\n",
        "final_predictions_encoded = clf.predict(X_test_kaggle)\n",
        "\n",
        "# Inverse transform predictions\n",
        "final_predictions = label_encoder.inverse_transform(final_predictions_encoded)\n",
        "\n",
        "# Kaggle csv\n",
        "pY = pd.DataFrame(final_predictions, index=range(1,len(vX)+1), columns=['Class'])\n",
        "df.Class.fillna('unknown').value_counts()   # distribution of all train labels\n",
        "pY.value_counts()                           # distribution of predicted labels\n",
        "ToCSV(pY, '🌌Baseline🐍')"
      ],
      "metadata": {
        "id": "R0-jxlb2LiLL",
        "colab": {
          "base_uri": "https://localhost:8080/"
        },
        "outputId": "3712bf67-9c0e-420f-8095-b8da6c564a7a"
      },
      "execution_count": null,
      "outputs": [
        {
          "output_type": "execute_result",
          "data": {
            "text/plain": [
              "G          95204\n",
              "unknown    40000\n",
              "S          34362\n",
              "Q          30434\n",
              "Name: Class, dtype: int64"
            ]
          },
          "metadata": {},
          "execution_count": 152
        },
        {
          "output_type": "execute_result",
          "data": {
            "text/plain": [
              "Class\n",
              "G        23917\n",
              "S         8898\n",
              "Q         7185\n",
              "dtype: int64"
            ]
          },
          "metadata": {},
          "execution_count": 152
        }
      ]
    },
    {
      "cell_type": "markdown",
      "source": [
        "<font color=green><h3><b>$\\epsilon$. Documentation</b></h3></font>"
      ],
      "metadata": {
        "id": "aMVDxm-kEJis"
      }
    },
    {
      "cell_type": "markdown",
      "metadata": {
        "id": "OtOV3RVcwHAD"
      },
      "source": [
        "<font color=green><h4><b>Task 1. Explain Decisions in Preprocessing Pipeline</b></h4></font>\n",
        "\n",
        "<font color=green>\n",
        "Explain elements of your preprocessing pipeline i.e. feature engineering, subsampling, clustering, dimensionality reduction, etc.</font>\n",
        "\n",
        "<font color=green>\n",
        "\n",
        "1. Why did you choose these elements? (Something in EDA, prior experience,...? Note: EDA is not required)\n",
        "1. How do you evaluate the effectiveness of these elements?\n",
        "1. What else have you tried that worked or didn't?\n",
        "\n",
        "</font>"
      ]
    },
    {
      "cell_type": "markdown",
      "metadata": {
        "id": "39zfwMOXwHAD"
      },
      "source": [
        "<b>Why did you choose these elements?</b>\n",
        "<ul>\n",
        "  <li> Some features such as ‘field_id’, ‘fiber_id’, ‘run_id’ and ‘plate’ were dropped from the dataset because they did not provide any useful data for modelling, this was understood after EDA. </li>\n",
        "  <li> Subsampling is used for model selection, validation, and testing to ensure the model is evaluated effectively and to avoid overfitting </li>\n",
        "  <li> In order to scale the functions of model to a range StandardScaler was used. </li>\n",
        "  <li> Polynomial features of 3rd degree are added to model non-linear relationships in the model. </li>\n",
        "</ul>\n",
        "\n",
        "During the preprocessing stage we have tried EDA by plotting coloured histograms. Furthermore, for each class and for each feature we have plotted boxplots. The data showed that for the ID features (field_id, fiber_id, run_id and plate) the distribution for each class was the same. This meant that we could delete those classes without impacting our future classifications. In the context this makes sense since an ID does not usually determine the type of object that is named with this ID. Using the histograms we also managed to observe that the deviations throughout classes was mostly insignificant and the only feature which really helped to classify objects was the redshift (to determine whether an object is a star or a Quasar/Galaxy).\n",
        "Our next idea was to use linear combinations of different features in order to determine some properties. We have read articles that g-u is sometimes used to classify spatial objects. Unfortunately, all our attempts led nowhere.\n",
        "\n",
        "<b> How do you evaluate the effectiveness of these elements? </b>\n",
        "\n",
        "In order to measure the effectiveness of the chosen methods, we should look at the accuracy of the model which is quite high, more than 96%. Hence, the chosen methods are extremely effective.\n",
        "To evaluate the effectiveness of the changes made to our data we have used cross validation on different samples of the same dataset. If dropping a feature or adding a feature led to a higher mean accuracy on our test dataset we went forward with the change.\n",
        "\n",
        "<b> What else have you tried that worked or didn't? </b>\n",
        "<ul>\n",
        "  <li> We tried to drop various other features, however, the chosen ones were the most useless. </li>\n",
        "  <li> We also tried to use PCA, however, it didn’t work properly and decreased the result of the model in which it was used, QDA. </li>\n",
        "  <li> Other function for scaling, MaxAbsScaler was also used but the StandardScaler gave better results for our model. </li>\n",
        "</ul>\n",
        "\n",
        "Firstly, we tried PCA in order to find linear directions that led to maximal variance and thereby reduce the number of features used. However, decreasing components led to a lower accuracy score. This effect was furthered when we tried to use PCA after dropping the unnecessary features.\n",
        "Secondly, we used StandardScaler and the effect was significant for the overall performance of our linear regression model, however we could not observe a significant change in performance of either QDA or LDA. To monitor the performance of each classifier separately we created the functions (which was removed from the last version of our google colab), but we are mentioning this since it made checking different components of different classifiers much more ‘user-friendly’.\n",
        "Third, we decided to go forward with polynomial features to catch the quadratic and the combined relationships within our features. We have also tried degree 4, but this led to overfitting since our test performance was significantly worse than the train performance."
      ]
    },
    {
      "cell_type": "markdown",
      "metadata": {
        "id": "ppwkSmoEwHAD"
      },
      "source": [
        "<font color=green><h4><b>Task 2. Explain Decisions in Modeling Pipeline</b></h4></font>\n",
        "\n",
        "<font color=green>\n",
        "Explain your modeling approach, i.e. ideas you tried and why you thought they would be helpful.\n",
        "\n",
        "1. How did these decisions guide you in modeling?\n",
        "1. How do you evaluate the effectiveness of these elements?\n",
        "1. What else have you tried that worked or didn't?\n",
        "\n",
        "</font>"
      ]
    },
    {
      "cell_type": "markdown",
      "metadata": {
        "id": "vBXlrkB9wHAD"
      },
      "source": [
        "<b> How did these decisions guide you in modelling? </b>\n",
        "\n",
        "Our big idea was to use a number of classifiers since this could lead to different properties being caught by the different classifiers and thereby a higher accuracy. We got this idea because when we observed the confusion matrices for QDA and LogReg we realised that they were mispredicting differently and different classes. This meant we could somehow average the predictions of many classifiers. To do so, we trained multiple QDA and LogReg models on different samples of the data, then we used an LDA model with additional features consisting of the predictors of the different classifiers. This is how we got our final model pipeline.\n",
        "We used a few models such as QDA and Logistic Regression on different parts of the dataset in order to predict results. After that, the obtained results were put into LDA, which output the final prediction.\n",
        "\n",
        "<b> How do you evaluate the effectiveness of these elements? </b>\n",
        "\n",
        "We think that it is extremely effective since we have managed to achieve an accuracy of 0.97015 % on our sample. Furthermore, we know that this kind of implementation is readily used in a RandomForest model, where many trees are taught on different data samples.\n",
        "\n",
        "<b> What else have you tried that worked or didn't? </b>\n",
        "\n",
        "Firstly, we have tried to use a single model for predictions. This could only achieve a satisfactory result of about 96.5% which we thought was not good enough. We tried to use many more models (3*7) but this went above the time limit, while achieving quite a satisfactory result. We also realised that the sample sizes were unbalanced and hence tried to use SMOTE to balance out the number of classes, but for some reason this has decreased our accuracy. Lastly, we used gridsearch cv to find the optimal. Lastly, we have also read on Kaggle that this dataset performs well with boosting models so it would be interesting to try these models on this dataset."
      ]
    },
    {
      "cell_type": "markdown",
      "metadata": {
        "id": "pzBsjCvS_kEw"
      },
      "source": [
        "<font color=green><h3><b>$\\zeta$. References</b></h3></font>"
      ]
    },
    {
      "cell_type": "markdown",
      "metadata": {
        "id": "2kr8Q-9T_nAb"
      },
      "source": [
        "1. https://www.kaggle.com/code/ilialar/hyperparameters-tunning-with-hyperopt#Hyperopt (https://colab.research.google.com/corgiredirector?site=https%3A%2F%2Fwww.kaggle.com%2Fcode%2Filialar%2Fhyperparameters-tunning-with-hyperopt%23Hyperopt)\n",
        "1. James, G., Witten, D., Hastie, T., Tibshirani, R., & Taylor, J. (2023). An introduction to statistical learning: With applications in Python. Springer.\n",
        "1. Hastie, T. (2011). The elements of statistical learning, Hastie, 2nd edition. Springer.\n",
        "1. https://en.wikipedia.org/wiki/Hyperparameter_optimization#Bayesian_optimization (https://colab.research.google.com/corgiredirector?site=https%3A%2F%2Fen.wikipedia.org%2Fwiki%2FHyperparameter_optimization%23Bayesian_optimization)"
      ]
    },
    {
      "cell_type": "markdown",
      "metadata": {
        "id": "DoF2GoB_QGw9"
      },
      "source": [
        "<font size=5>⌛</font> <strong><font color=green size=5>Do not exceed competition's runtime limit! Do not write code outside TGP</font></strong>\n",
        "<hr color=green size=40>"
      ]
    },
    {
      "cell_type": "code",
      "source": [
        "tmr.ShowTime()    # measure Colab's runtime. Do not remove. Keep as the last cell in your notebook."
      ],
      "metadata": {
        "id": "bD1sdgYbNWQA",
        "colab": {
          "base_uri": "https://localhost:8080/"
        },
        "outputId": "8e8e549f-8a11-4080-f62b-720246abfa95"
      },
      "execution_count": null,
      "outputs": [
        {
          "output_type": "stream",
          "name": "stdout",
          "text": [
            "Runtime is 59 sec\n"
          ]
        }
      ]
    },
    {
      "cell_type": "markdown",
      "metadata": {
        "id": "oUStTaN4uo_Z"
      },
      "source": [
        "## 💡**Starter Ideas**"
      ]
    },
    {
      "cell_type": "markdown",
      "source": [
        "1. Tune model hyperparameters\n",
        "1. Try to linear and non-linear feature normalization: shift/scale, log, divide features by features (investigate scatterplot matrix)\n",
        "1. Try higher order feature interactions and polynomial features on a small subsample. Then identify key features or select key principal components. The final model can be trained on a larger or even full training sample. You can use [PCA](https://scikit-learn.org/stable/modules/generated/sklearn.decomposition.PCA.html) to reduce the feature set\n",
        "1. Do a thorough EDA: look for feature augmentations that result in linear decision boundaries between pairs of classes.\n",
        "1. Evaluate predictions and focus on poorly predicted \"groups\":\n",
        "  1. Strongest missclassifications. E.g. the model is very confident about the wrong label\n",
        "  1. Evaluate predictions near decision boundaries.\n",
        "1. Do scatter plots show piecewise linear shape? Can a separate linear model be used on each support, or can the pattern be linearized via transformations?\n",
        "1. How are date/categorical features treated by the model? Is there a [better way](https://www.google.com/search?q=ways+to+encode+categorical+data) to encode these (perhaps, ordinal) features?\n",
        "  1. E.g. you could replace codes (or groups of codes) with their frequencies, which may capture the implied \"distance\" or rarity between category levels.\n",
        "  1. If encoding ordinal features with integers, should non-equidistant values be considered?\n",
        "1. Learn astronomy domain and features: [🎦](https://www.youtube.com/results?search_query=Quasi-star), [quasi-star](https://en.wikipedia.org/wiki/Quasi-star), [star](https://en.wikipedia.org/wiki/Star), [galaxy](https://en.wikipedia.org/wiki/Galaxy), [📃](https://arxiv.org/abs/2112.02026)\n"
      ],
      "metadata": {
        "id": "q4QO-u3t8xAO"
      }
    },
    {
      "cell_type": "code",
      "source": [],
      "metadata": {
        "id": "tLlIseR-EcrE"
      },
      "execution_count": null,
      "outputs": []
    }
  ]
}