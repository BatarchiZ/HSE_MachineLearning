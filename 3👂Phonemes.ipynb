{
  "cells": [
    {
      "cell_type": "markdown",
      "metadata": {
        "id": "q3pqxgX4DxeH"
      },
      "source": [
        "<small><font color=gray>Notebook author: <a href=\"https://www.linkedin.com/in/olegmelnikov/\" target=\"_blank\">Oleg Melnikov</a> ©2021 onwards</font></small><hr style=\"margin:0;background-color:silver\">\n",
        "\n",
        "**[<font size=6>👂Phonemes</font>](https://www.kaggle.com/competitions/16oct23hse-phonemes/rules)**. [**Instructions**](https://colab.research.google.com/drive/1owkYjuRGkx050LQnM3b3yTzd0Dr2XbeV) for running Colabs."
      ]
    },
    {
      "cell_type": "markdown",
      "metadata": {
        "id": "5yMag5FdMw1Q"
      },
      "source": [
        "<small>**(Optional) CONSENT.** <mark>[ X ]</mark> We consent to sharing our Colab (after the assignment ends) with other students/instructors for educational purposes. We understand that sharing is optional and this decision will not affect our grade in any way. <font color=gray><i>(If ok with sharing your Colab for educational purposes, leave \"X\" in the check box.)</i></font></small>"
      ]
    },
    {
      "cell_type": "code",
      "execution_count": null,
      "metadata": {
        "id": "qrogZ_8bD9tZ",
        "colab": {
          "base_uri": "https://localhost:8080/"
        },
        "outputId": "74f0d55e-a348-4da3-f9cc-f8e35f75508d"
      },
      "outputs": [
        {
          "output_type": "stream",
          "name": "stdout",
          "text": [
            "Mounted at /content/drive\n"
          ]
        }
      ],
      "source": [
        "from google.colab import drive; drive.mount('/content/drive')   # OK to enable, if your kaggle.json is stored in Google Drive"
      ]
    },
    {
      "cell_type": "code",
      "execution_count": null,
      "metadata": {
        "id": "d8XoC8VqBXGs",
        "colab": {
          "base_uri": "https://localhost:8080/"
        },
        "outputId": "93a3eb27-4fff-4c68-b816-cbb6a80ca42a"
      },
      "outputs": [
        {
          "output_type": "stream",
          "name": "stdout",
          "text": [
            "cp: cannot stat 'kaggle.json': No such file or directory\n",
            "- competition is now set to: b16oct23hse-phonemes\n",
            "100% 28.8M/28.8M [00:00<00:00, 110MB/s]\n",
            "Using competition: b16oct23hse-phonemes\n",
            "  teamId  teamName            submissionDate       score    \n",
            "--------  ------------------  -------------------  -------  \n",
            "11112560  Denis Kulakov       2023-11-10 15:28:37  0.93120  \n",
            "11094096  Kirill Kiosa        2023-11-11 06:46:28  0.93060  \n",
            "11212509  Polina Volodchenko  2023-11-10 11:51:18  0.92960  \n",
            "11222985  Selifanov Tikhon    2023-11-10 16:20:56  0.92920  \n",
            "11096743  Nikita Mahbub       2023-11-10 18:38:51  0.92840  \n",
            "11115547  Tanya Tomayly       2023-11-11 03:33:18  0.92680  \n",
            "11108092  Maxim Smeyanov      2023-11-04 09:58:01  0.92600  \n",
            "11213122  Y                   2023-11-10 13:48:41  0.92500  \n",
            "11111161  Artem Zakharov      2023-11-10 08:56:12  0.92060  \n",
            "11154152  Andrew Shatalov     2023-11-10 08:46:50  0.91960  \n",
            "11135270  AA                  2023-10-31 20:12:44  0.90680  \n",
            "11141243  N                   2023-10-30 15:45:46  0.90360  \n",
            "11222714  Tigran Oganesyan    2023-11-10 20:00:43  0.89740  \n",
            "11222798  Stanislaw Ryazanov  2023-11-10 11:42:39  0.89500  \n",
            "11175576  Alisa Vakhitova     2023-11-10 10:44:42  0.89380  \n",
            "11225682  Polina_Busheva      2023-11-10 22:15:25  0.89380  \n",
            "11218869  R                   2023-11-11 08:26:31  0.89380  \n",
            "11094103  Artem Levankov      2023-11-07 14:20:53  0.89260  \n",
            "11224470  Elena Dmitrievaa    2023-11-10 19:54:23  0.88980  \n",
            "11145990  B                   2023-10-28 13:59:25  0.88000  \n",
            "11112671  L                   2023-10-22 23:12:53  0.86940  \n",
            "11110683  H                   2023-11-10 14:34:52  0.81600  \n",
            "11222907  Ivan Orlov 207      2023-11-10 16:55:00  0.76040  \n",
            "11062907  👂Baseline           2022-10-16 15:39:48  0.61040  \n",
            "11227347  Gleb Kruglikov      2023-11-11 09:36:48  0.61040  \n",
            "11163873  Iskander Sergazin   2023-11-10 14:51:35  0.24220  \n",
            "11173291  Arsenii Malikov     2023-11-07 14:34:02  0.21660  \n"
          ]
        }
      ],
      "source": [
        "!pip -q install --upgrade --force-reinstall --no-deps kaggle > log  # upgrade kaggle package (to avoid a warning)\n",
        "!mkdir -p ~/.kaggle                                           # .kaggle folder must contain kaggle.json for kaggle executable to properly authenticate you to Kaggle.com\n",
        "!cp /content/drive/MyDrive/kaggle.json ~/.kaggle/kaggle.json >log  # First, download kaggle.json from kaggle.com (in Account page) and place it in the root of mounted Google Drive\n",
        "!cp kaggle.json ~/.kaggle/kaggle.json > log                   # Alternative location of kaggle.json (without a connection to Google Drive)\n",
        "!chmod 600 ~/.kaggle/kaggle.json                              # give only the owner full read/write access to kaggle.json\n",
        "!kaggle config set -n competition -v b16oct23hse-phonemes      # set the competition context for the next few kaggle API calls. !kaggle config view - shows current settings\n",
        "!kaggle competitions download >> log                          # download competition dataset as a zip file\n",
        "!unzip -o *.zip >> log                                        # Kaggle dataset is copied as a single file and needs to be unzipped.\n",
        "!kaggle competitions leaderboard --show                     # print public leaderboard"
      ]
    },
    {
      "cell_type": "code",
      "execution_count": null,
      "metadata": {
        "id": "7CyC-JlZFga1",
        "colab": {
          "base_uri": "https://localhost:8080/"
        },
        "outputId": "dcbee296-5097-49cc-93b4-a5ffdbc966eb"
      },
      "outputs": [
        {
          "output_type": "stream",
          "name": "stdout",
          "text": [
            "CPU times: user 1.88 s, sys: 362 ms, total: 2.24 s\n",
            "Wall time: 3.72 s\n"
          ]
        }
      ],
      "source": [
        "%%time\n",
        "%%capture\n",
        "%reset -f\n",
        "from IPython.core.interactiveshell import InteractiveShell as IS; IS.ast_node_interactivity = \"all\"\n",
        "import numpy as np, pandas as pd, time, matplotlib.pyplot as plt, seaborn as sns, os, tqdm, re, sys, cv2, skimage, xgboost, lightgbm as lgb, librosa\n",
        "from sklearn.preprocessing import PolynomialFeatures\n",
        "from sklearn.linear_model import LogisticRegression as LR\n",
        "from sklearn.ensemble import GradientBoostingClassifier as GBC\n",
        "from sklearn.discriminant_analysis import QuadraticDiscriminantAnalysis as QDA, LinearDiscriminantAnalysis as LDA\n",
        "ToCSV = lambda df, fname: df.round(2).to_csv(f'{fname}.csv', index_label='id') # rounds values to 2 decimals\n",
        "\n",
        "class Timer():\n",
        "  def __init__(self, lim:'RunTimeLimit'=60): self.t0, self.lim, _ = time.time(), lim, print(f'⏳ started. You have {lim} sec. Good luck!')\n",
        "  def ShowTime(self):\n",
        "    msg = f'Runtime is {time.time()-self.t0:.0f} sec'\n",
        "    print(f'\\033[91m\\033[1m' + msg + f' > {self.lim} sec limit!!!\\033[0m' if (time.time()-self.t0-1) > self.lim else msg)\n",
        "\n",
        "np.set_printoptions(linewidth=100, precision=2, edgeitems=2, suppress=True)\n",
        "pd.set_option('display.max_columns', 20, 'display.precision', 2, 'display.max_rows', 4)"
      ]
    },
    {
      "cell_type": "code",
      "execution_count": null,
      "metadata": {
        "id": "X00bQLb5FpxU",
        "colab": {
          "base_uri": "https://localhost:8080/",
          "height": 235
        },
        "outputId": "f7041d30-e3e1-4030-96ac-113adb29fd11"
      },
      "outputs": [
        {
          "output_type": "execute_result",
          "data": {
            "text/plain": [
              "          x1     x2     x3     x4     x5     x6     x7     x8     x9    x10  \\\n",
              "0      11.14  15.17  19.12  18.78  13.79  18.98  20.09  19.16  17.32  19.76   \n",
              "1      10.84  15.20  19.80  17.82  14.10  17.93  19.54  20.97  16.65  22.41   \n",
              "...      ...    ...    ...    ...    ...    ...    ...    ...    ...    ...   \n",
              "59998  12.15  15.78  21.27  19.61  15.14  21.44  23.24  20.91  17.42  21.22   \n",
              "59999  14.78  14.08  15.70  15.51  15.36  15.52  14.68  15.57  15.48  15.45   \n",
              "\n",
              "       ...   x249   x250   x251   x252   x253   x254   x255   x256  SpkrID  \\\n",
              "0      ...   7.79  10.95  10.05   8.67  10.84   9.50   7.96   9.04       0   \n",
              "1      ...  12.95  13.05  11.95  11.07  10.81   9.71  11.57  12.22       0   \n",
              "...    ...    ...    ...    ...    ...    ...    ...    ...    ...     ...   \n",
              "59998  ...   8.82   8.00   7.44   8.32   6.51   8.33   6.83   7.02     436   \n",
              "59999  ...  12.87  13.26  13.16  12.65  13.90  13.10  11.16  13.53     436   \n",
              "\n",
              "         g  \n",
              "0      NaN  \n",
              "1      NaN  \n",
              "...    ...  \n",
              "59998   ao  \n",
              "59999   sh  \n",
              "\n",
              "[60000 rows x 258 columns]"
            ],
            "text/html": [
              "\n",
              "  <div id=\"df-15553bbe-889c-4a3e-8b44-42e588d8ab47\" class=\"colab-df-container\">\n",
              "    <div>\n",
              "<style scoped>\n",
              "    .dataframe tbody tr th:only-of-type {\n",
              "        vertical-align: middle;\n",
              "    }\n",
              "\n",
              "    .dataframe tbody tr th {\n",
              "        vertical-align: top;\n",
              "    }\n",
              "\n",
              "    .dataframe thead th {\n",
              "        text-align: right;\n",
              "    }\n",
              "</style>\n",
              "<table border=\"1\" class=\"dataframe\">\n",
              "  <thead>\n",
              "    <tr style=\"text-align: right;\">\n",
              "      <th></th>\n",
              "      <th>x1</th>\n",
              "      <th>x2</th>\n",
              "      <th>x3</th>\n",
              "      <th>x4</th>\n",
              "      <th>x5</th>\n",
              "      <th>x6</th>\n",
              "      <th>x7</th>\n",
              "      <th>x8</th>\n",
              "      <th>x9</th>\n",
              "      <th>x10</th>\n",
              "      <th>...</th>\n",
              "      <th>x249</th>\n",
              "      <th>x250</th>\n",
              "      <th>x251</th>\n",
              "      <th>x252</th>\n",
              "      <th>x253</th>\n",
              "      <th>x254</th>\n",
              "      <th>x255</th>\n",
              "      <th>x256</th>\n",
              "      <th>SpkrID</th>\n",
              "      <th>g</th>\n",
              "    </tr>\n",
              "  </thead>\n",
              "  <tbody>\n",
              "    <tr>\n",
              "      <th>0</th>\n",
              "      <td>11.14</td>\n",
              "      <td>15.17</td>\n",
              "      <td>19.12</td>\n",
              "      <td>18.78</td>\n",
              "      <td>13.79</td>\n",
              "      <td>18.98</td>\n",
              "      <td>20.09</td>\n",
              "      <td>19.16</td>\n",
              "      <td>17.32</td>\n",
              "      <td>19.76</td>\n",
              "      <td>...</td>\n",
              "      <td>7.79</td>\n",
              "      <td>10.95</td>\n",
              "      <td>10.05</td>\n",
              "      <td>8.67</td>\n",
              "      <td>10.84</td>\n",
              "      <td>9.50</td>\n",
              "      <td>7.96</td>\n",
              "      <td>9.04</td>\n",
              "      <td>0</td>\n",
              "      <td>NaN</td>\n",
              "    </tr>\n",
              "    <tr>\n",
              "      <th>1</th>\n",
              "      <td>10.84</td>\n",
              "      <td>15.20</td>\n",
              "      <td>19.80</td>\n",
              "      <td>17.82</td>\n",
              "      <td>14.10</td>\n",
              "      <td>17.93</td>\n",
              "      <td>19.54</td>\n",
              "      <td>20.97</td>\n",
              "      <td>16.65</td>\n",
              "      <td>22.41</td>\n",
              "      <td>...</td>\n",
              "      <td>12.95</td>\n",
              "      <td>13.05</td>\n",
              "      <td>11.95</td>\n",
              "      <td>11.07</td>\n",
              "      <td>10.81</td>\n",
              "      <td>9.71</td>\n",
              "      <td>11.57</td>\n",
              "      <td>12.22</td>\n",
              "      <td>0</td>\n",
              "      <td>NaN</td>\n",
              "    </tr>\n",
              "    <tr>\n",
              "      <th>...</th>\n",
              "      <td>...</td>\n",
              "      <td>...</td>\n",
              "      <td>...</td>\n",
              "      <td>...</td>\n",
              "      <td>...</td>\n",
              "      <td>...</td>\n",
              "      <td>...</td>\n",
              "      <td>...</td>\n",
              "      <td>...</td>\n",
              "      <td>...</td>\n",
              "      <td>...</td>\n",
              "      <td>...</td>\n",
              "      <td>...</td>\n",
              "      <td>...</td>\n",
              "      <td>...</td>\n",
              "      <td>...</td>\n",
              "      <td>...</td>\n",
              "      <td>...</td>\n",
              "      <td>...</td>\n",
              "      <td>...</td>\n",
              "      <td>...</td>\n",
              "    </tr>\n",
              "    <tr>\n",
              "      <th>59998</th>\n",
              "      <td>12.15</td>\n",
              "      <td>15.78</td>\n",
              "      <td>21.27</td>\n",
              "      <td>19.61</td>\n",
              "      <td>15.14</td>\n",
              "      <td>21.44</td>\n",
              "      <td>23.24</td>\n",
              "      <td>20.91</td>\n",
              "      <td>17.42</td>\n",
              "      <td>21.22</td>\n",
              "      <td>...</td>\n",
              "      <td>8.82</td>\n",
              "      <td>8.00</td>\n",
              "      <td>7.44</td>\n",
              "      <td>8.32</td>\n",
              "      <td>6.51</td>\n",
              "      <td>8.33</td>\n",
              "      <td>6.83</td>\n",
              "      <td>7.02</td>\n",
              "      <td>436</td>\n",
              "      <td>ao</td>\n",
              "    </tr>\n",
              "    <tr>\n",
              "      <th>59999</th>\n",
              "      <td>14.78</td>\n",
              "      <td>14.08</td>\n",
              "      <td>15.70</td>\n",
              "      <td>15.51</td>\n",
              "      <td>15.36</td>\n",
              "      <td>15.52</td>\n",
              "      <td>14.68</td>\n",
              "      <td>15.57</td>\n",
              "      <td>15.48</td>\n",
              "      <td>15.45</td>\n",
              "      <td>...</td>\n",
              "      <td>12.87</td>\n",
              "      <td>13.26</td>\n",
              "      <td>13.16</td>\n",
              "      <td>12.65</td>\n",
              "      <td>13.90</td>\n",
              "      <td>13.10</td>\n",
              "      <td>11.16</td>\n",
              "      <td>13.53</td>\n",
              "      <td>436</td>\n",
              "      <td>sh</td>\n",
              "    </tr>\n",
              "  </tbody>\n",
              "</table>\n",
              "<p>60000 rows × 258 columns</p>\n",
              "</div>\n",
              "    <div class=\"colab-df-buttons\">\n",
              "\n",
              "  <div class=\"colab-df-container\">\n",
              "    <button class=\"colab-df-convert\" onclick=\"convertToInteractive('df-15553bbe-889c-4a3e-8b44-42e588d8ab47')\"\n",
              "            title=\"Convert this dataframe to an interactive table.\"\n",
              "            style=\"display:none;\">\n",
              "\n",
              "  <svg xmlns=\"http://www.w3.org/2000/svg\" height=\"24px\" viewBox=\"0 -960 960 960\">\n",
              "    <path d=\"M120-120v-720h720v720H120Zm60-500h600v-160H180v160Zm220 220h160v-160H400v160Zm0 220h160v-160H400v160ZM180-400h160v-160H180v160Zm440 0h160v-160H620v160ZM180-180h160v-160H180v160Zm440 0h160v-160H620v160Z\"/>\n",
              "  </svg>\n",
              "    </button>\n",
              "\n",
              "  <style>\n",
              "    .colab-df-container {\n",
              "      display:flex;\n",
              "      gap: 12px;\n",
              "    }\n",
              "\n",
              "    .colab-df-convert {\n",
              "      background-color: #E8F0FE;\n",
              "      border: none;\n",
              "      border-radius: 50%;\n",
              "      cursor: pointer;\n",
              "      display: none;\n",
              "      fill: #1967D2;\n",
              "      height: 32px;\n",
              "      padding: 0 0 0 0;\n",
              "      width: 32px;\n",
              "    }\n",
              "\n",
              "    .colab-df-convert:hover {\n",
              "      background-color: #E2EBFA;\n",
              "      box-shadow: 0px 1px 2px rgba(60, 64, 67, 0.3), 0px 1px 3px 1px rgba(60, 64, 67, 0.15);\n",
              "      fill: #174EA6;\n",
              "    }\n",
              "\n",
              "    .colab-df-buttons div {\n",
              "      margin-bottom: 4px;\n",
              "    }\n",
              "\n",
              "    [theme=dark] .colab-df-convert {\n",
              "      background-color: #3B4455;\n",
              "      fill: #D2E3FC;\n",
              "    }\n",
              "\n",
              "    [theme=dark] .colab-df-convert:hover {\n",
              "      background-color: #434B5C;\n",
              "      box-shadow: 0px 1px 3px 1px rgba(0, 0, 0, 0.15);\n",
              "      filter: drop-shadow(0px 1px 2px rgba(0, 0, 0, 0.3));\n",
              "      fill: #FFFFFF;\n",
              "    }\n",
              "  </style>\n",
              "\n",
              "    <script>\n",
              "      const buttonEl =\n",
              "        document.querySelector('#df-15553bbe-889c-4a3e-8b44-42e588d8ab47 button.colab-df-convert');\n",
              "      buttonEl.style.display =\n",
              "        google.colab.kernel.accessAllowed ? 'block' : 'none';\n",
              "\n",
              "      async function convertToInteractive(key) {\n",
              "        const element = document.querySelector('#df-15553bbe-889c-4a3e-8b44-42e588d8ab47');\n",
              "        const dataTable =\n",
              "          await google.colab.kernel.invokeFunction('convertToInteractive',\n",
              "                                                    [key], {});\n",
              "        if (!dataTable) return;\n",
              "\n",
              "        const docLinkHtml = 'Like what you see? Visit the ' +\n",
              "          '<a target=\"_blank\" href=https://colab.research.google.com/notebooks/data_table.ipynb>data table notebook</a>'\n",
              "          + ' to learn more about interactive tables.';\n",
              "        element.innerHTML = '';\n",
              "        dataTable['output_type'] = 'display_data';\n",
              "        await google.colab.output.renderOutput(dataTable, element);\n",
              "        const docLink = document.createElement('div');\n",
              "        docLink.innerHTML = docLinkHtml;\n",
              "        element.appendChild(docLink);\n",
              "      }\n",
              "    </script>\n",
              "  </div>\n",
              "\n",
              "\n",
              "<div id=\"df-1b47bf86-6406-49bc-9229-f73a4b21a3cd\">\n",
              "  <button class=\"colab-df-quickchart\" onclick=\"quickchart('df-1b47bf86-6406-49bc-9229-f73a4b21a3cd')\"\n",
              "            title=\"Suggest charts\"\n",
              "            style=\"display:none;\">\n",
              "\n",
              "<svg xmlns=\"http://www.w3.org/2000/svg\" height=\"24px\"viewBox=\"0 0 24 24\"\n",
              "     width=\"24px\">\n",
              "    <g>\n",
              "        <path d=\"M19 3H5c-1.1 0-2 .9-2 2v14c0 1.1.9 2 2 2h14c1.1 0 2-.9 2-2V5c0-1.1-.9-2-2-2zM9 17H7v-7h2v7zm4 0h-2V7h2v10zm4 0h-2v-4h2v4z\"/>\n",
              "    </g>\n",
              "</svg>\n",
              "  </button>\n",
              "\n",
              "<style>\n",
              "  .colab-df-quickchart {\n",
              "      --bg-color: #E8F0FE;\n",
              "      --fill-color: #1967D2;\n",
              "      --hover-bg-color: #E2EBFA;\n",
              "      --hover-fill-color: #174EA6;\n",
              "      --disabled-fill-color: #AAA;\n",
              "      --disabled-bg-color: #DDD;\n",
              "  }\n",
              "\n",
              "  [theme=dark] .colab-df-quickchart {\n",
              "      --bg-color: #3B4455;\n",
              "      --fill-color: #D2E3FC;\n",
              "      --hover-bg-color: #434B5C;\n",
              "      --hover-fill-color: #FFFFFF;\n",
              "      --disabled-bg-color: #3B4455;\n",
              "      --disabled-fill-color: #666;\n",
              "  }\n",
              "\n",
              "  .colab-df-quickchart {\n",
              "    background-color: var(--bg-color);\n",
              "    border: none;\n",
              "    border-radius: 50%;\n",
              "    cursor: pointer;\n",
              "    display: none;\n",
              "    fill: var(--fill-color);\n",
              "    height: 32px;\n",
              "    padding: 0;\n",
              "    width: 32px;\n",
              "  }\n",
              "\n",
              "  .colab-df-quickchart:hover {\n",
              "    background-color: var(--hover-bg-color);\n",
              "    box-shadow: 0 1px 2px rgba(60, 64, 67, 0.3), 0 1px 3px 1px rgba(60, 64, 67, 0.15);\n",
              "    fill: var(--button-hover-fill-color);\n",
              "  }\n",
              "\n",
              "  .colab-df-quickchart-complete:disabled,\n",
              "  .colab-df-quickchart-complete:disabled:hover {\n",
              "    background-color: var(--disabled-bg-color);\n",
              "    fill: var(--disabled-fill-color);\n",
              "    box-shadow: none;\n",
              "  }\n",
              "\n",
              "  .colab-df-spinner {\n",
              "    border: 2px solid var(--fill-color);\n",
              "    border-color: transparent;\n",
              "    border-bottom-color: var(--fill-color);\n",
              "    animation:\n",
              "      spin 1s steps(1) infinite;\n",
              "  }\n",
              "\n",
              "  @keyframes spin {\n",
              "    0% {\n",
              "      border-color: transparent;\n",
              "      border-bottom-color: var(--fill-color);\n",
              "      border-left-color: var(--fill-color);\n",
              "    }\n",
              "    20% {\n",
              "      border-color: transparent;\n",
              "      border-left-color: var(--fill-color);\n",
              "      border-top-color: var(--fill-color);\n",
              "    }\n",
              "    30% {\n",
              "      border-color: transparent;\n",
              "      border-left-color: var(--fill-color);\n",
              "      border-top-color: var(--fill-color);\n",
              "      border-right-color: var(--fill-color);\n",
              "    }\n",
              "    40% {\n",
              "      border-color: transparent;\n",
              "      border-right-color: var(--fill-color);\n",
              "      border-top-color: var(--fill-color);\n",
              "    }\n",
              "    60% {\n",
              "      border-color: transparent;\n",
              "      border-right-color: var(--fill-color);\n",
              "    }\n",
              "    80% {\n",
              "      border-color: transparent;\n",
              "      border-right-color: var(--fill-color);\n",
              "      border-bottom-color: var(--fill-color);\n",
              "    }\n",
              "    90% {\n",
              "      border-color: transparent;\n",
              "      border-bottom-color: var(--fill-color);\n",
              "    }\n",
              "  }\n",
              "</style>\n",
              "\n",
              "  <script>\n",
              "    async function quickchart(key) {\n",
              "      const quickchartButtonEl =\n",
              "        document.querySelector('#' + key + ' button');\n",
              "      quickchartButtonEl.disabled = true;  // To prevent multiple clicks.\n",
              "      quickchartButtonEl.classList.add('colab-df-spinner');\n",
              "      try {\n",
              "        const charts = await google.colab.kernel.invokeFunction(\n",
              "            'suggestCharts', [key], {});\n",
              "      } catch (error) {\n",
              "        console.error('Error during call to suggestCharts:', error);\n",
              "      }\n",
              "      quickchartButtonEl.classList.remove('colab-df-spinner');\n",
              "      quickchartButtonEl.classList.add('colab-df-quickchart-complete');\n",
              "    }\n",
              "    (() => {\n",
              "      let quickchartButtonEl =\n",
              "        document.querySelector('#df-1b47bf86-6406-49bc-9229-f73a4b21a3cd button');\n",
              "      quickchartButtonEl.style.display =\n",
              "        google.colab.kernel.accessAllowed ? 'block' : 'none';\n",
              "    })();\n",
              "  </script>\n",
              "</div>\n",
              "    </div>\n",
              "  </div>\n"
            ]
          },
          "metadata": {},
          "execution_count": 4
        }
      ],
      "source": [
        "df = pd.read_csv('XY_Phonemes.csv', low_memory=False); df"
      ]
    },
    {
      "cell_type": "code",
      "execution_count": null,
      "metadata": {
        "id": "fFp0IV3BJR9_",
        "colab": {
          "base_uri": "https://localhost:8080/"
        },
        "outputId": "1fa0d2e6-3825-4c06-cef3-2229ad9577d8"
      },
      "outputs": [
        {
          "output_type": "stream",
          "name": "stdout",
          "text": [
            "<class 'pandas.core.frame.DataFrame'>\n",
            "RangeIndex: 60000 entries, 0 to 59999\n",
            "Columns: 258 entries, x1 to g\n",
            "dtypes: float64(256), int64(1), object(1)\n",
            "memory usage: 118.1+ MB\n"
          ]
        }
      ],
      "source": [
        "df.info()   # observe datatypes and any missing values"
      ]
    },
    {
      "cell_type": "code",
      "execution_count": null,
      "metadata": {
        "id": "UDA4wJqELlOR"
      },
      "outputs": [],
      "source": [
        "# Change string labels to numbers in order of increasing size of the entity (Star < Quasi Star < Galaxy)\n",
        "# df.Class = df.Class.apply(lambda C: -1 if C=='S' else 0 if C=='Q' else 1 if C=='G' else None)"
      ]
    },
    {
      "cell_type": "code",
      "execution_count": null,
      "metadata": {
        "id": "f7OuVizOFsFF"
      },
      "outputs": [],
      "source": [
        "vX = df.query('g!=g').drop('g', axis=1)  # slice a test sample (10K observations)\n",
        "tXY = df.query('g==g')                   # slice training sample\n",
        "tX, tY = tXY.drop('g', axis=1), tXY.g    # split into training I/O (60K-10K = 50K observation)"
      ]
    },
    {
      "cell_type": "code",
      "execution_count": null,
      "metadata": {
        "id": "cF4DKrOxXPfD"
      },
      "outputs": [],
      "source": [
        "# aa = tXY[tXY.g=='aa'].set_index('g').iloc[[0],0:255]\n",
        "# ao = tXY[tXY.g=='ao'].set_index('g').iloc[[0],0:255]\n",
        "# _ = pd.concat([aa,ao]).T.plot(figsize=(20,3), grid=True, title='log-periodogram vs frequency. See ESL textbook, pp.148-149, Figure 5.5');"
      ]
    },
    {
      "cell_type": "code",
      "execution_count": null,
      "metadata": {
        "id": "z4_C58bbHuja",
        "colab": {
          "base_uri": "https://localhost:8080/"
        },
        "outputId": "503ecd39-1a43-4f8c-ddc4-20cfd006d338"
      },
      "outputs": [
        {
          "output_type": "stream",
          "name": "stdout",
          "text": [
            "⏳ started. You have 60 sec. Good luck!\n"
          ]
        }
      ],
      "source": [
        "tmr = Timer()"
      ]
    },
    {
      "cell_type": "markdown",
      "metadata": {
        "id": "HtMGXi6vfOxE"
      },
      "source": [
        "<hr color=green size=40>\n",
        "\n",
        "<strong><font color=green size=5>⏳Timed Green Playground (TGP): Your ideas, code, documentation, and timer START HERE!</font></strong>\n",
        "\n",
        "<font color=green>Students: Keep all your definitions, code, documentation in <b>TGP</b>. Modifying any code outside of TGP incurs penalties."
      ]
    },
    {
      "cell_type": "markdown",
      "metadata": {
        "id": "Do4QKjYwff5i"
      },
      "source": [
        "<font color=green><h3><b>$\\alpha$. Build polynomial features</b><h3>"
      ]
    },
    {
      "cell_type": "code",
      "source": [
        "'''Too long'''\n",
        "# import pandas as pd\n",
        "# from scipy.interpolate import UnivariateSpline\n",
        "# from sklearn.discriminant_analysis import LinearDiscriminantAnalysis as LDA\n",
        "# import numpy as np\n",
        "\n",
        "# # Assuming tX is your DataFrame\n",
        "\n",
        "# # Step 1: Extract and Smooth Columns x1 to x256\n",
        "# feature_columns = [f'x{i}' for i in range(1, 257)]  # Columns x1 to x256\n",
        "# tX_features = tX[feature_columns]\n",
        "\n",
        "# # Apply cubic spline smoothing\n",
        "# for col in tX_features.columns:\n",
        "#     x = np.arange(len(tX_features[col]))\n",
        "#     spline = UnivariateSpline(x, tX_features[col], k=3)\n",
        "#     print(col)\n",
        "#     tX_features[col] = spline(x)\n",
        "\n",
        "# # Step 2: Recombine Smoothed Data with SpkrID\n",
        "# tX_smoothed = pd.concat([tX_features, tX['SpkrID']], axis=1)\n",
        "\n",
        "# # Step 3: Train LDA Model\n",
        "# # Prepare target variable (SpkrID) and features\n",
        "# y = tX_smoothed['SpkrID']\n",
        "# X = tX_smoothed.drop('SpkrID', axis=1)\n",
        "\n",
        "# # Train LDA model\n",
        "# lda = LDA()\n",
        "# lda.fit(X, y)\n",
        "\n",
        "# # Optionally, evaluate the model's performance\n"
      ],
      "metadata": {
        "colab": {
          "base_uri": "https://localhost:8080/",
          "height": 35
        },
        "id": "PWILmlYhSfwY",
        "outputId": "1cca2f7a-1107-4f89-c8dd-988b1309d22e"
      },
      "execution_count": null,
      "outputs": [
        {
          "output_type": "execute_result",
          "data": {
            "text/plain": [
              "'Too long'"
            ],
            "application/vnd.google.colaboratory.intrinsic+json": {
              "type": "string"
            }
          },
          "metadata": {},
          "execution_count": 10
        }
      ]
    },
    {
      "cell_type": "code",
      "source": [
        "tXcp = tX\n",
        "vXcp = vX"
      ],
      "metadata": {
        "colab": {
          "base_uri": "https://localhost:8080/",
          "height": 193
        },
        "id": "g1pdPf_CfcpY",
        "outputId": "3bbc3272-0067-4ced-80b0-56d17b7b690c"
      },
      "execution_count": 1,
      "outputs": [
        {
          "output_type": "error",
          "ename": "NameError",
          "evalue": "ignored",
          "traceback": [
            "\u001b[0;31m---------------------------------------------------------------------------\u001b[0m",
            "\u001b[0;31mNameError\u001b[0m                                 Traceback (most recent call last)",
            "\u001b[0;32m<ipython-input-1-b9bef95e5300>\u001b[0m in \u001b[0;36m<cell line: 1>\u001b[0;34m()\u001b[0m\n\u001b[0;32m----> 1\u001b[0;31m \u001b[0mtXcp\u001b[0m \u001b[0;34m=\u001b[0m \u001b[0mtX\u001b[0m\u001b[0;34m\u001b[0m\u001b[0;34m\u001b[0m\u001b[0m\n\u001b[0m\u001b[1;32m      2\u001b[0m \u001b[0mvXcp\u001b[0m \u001b[0;34m=\u001b[0m \u001b[0mvX\u001b[0m\u001b[0;34m\u001b[0m\u001b[0;34m\u001b[0m\u001b[0m\n",
            "\u001b[0;31mNameError\u001b[0m: name 'tX' is not defined"
          ]
        }
      ]
    },
    {
      "cell_type": "code",
      "source": [
        "tX = tXcp\n",
        "vX = vXcp\n",
        "\n",
        "from sklearn.preprocessing import StandardScaler, SplineTransformer\n",
        "scaler = StandardScaler()\n",
        "tX = scaler.fit_transform(tX)\n",
        "vX = scaler.transform(vX)\n",
        "\n",
        "\n",
        "n = 25000  # validation subsample\n",
        "vX0, vY0 = tX[:n,:], tY[:n]   # subsample for model selection experiments\n",
        "tX0, tY0 = tX[-n:,:], tY[-n:] # subsample for model training\n",
        "\n",
        "# poly = PolynomialFeatures(degree=2)    # add non-linear features (powers and interactions)\n",
        "# tX0p = poly.fit_transform(tX0)  # create object on training set\n",
        "# vX0p = poly.transform(vX0)      # apply the same object to test set\n",
        "# vXp  = poly.transform(vX)       # apply the same object to test set\n",
        "\n",
        "spltt = SplineTransformer(n_knots=4, degree=3)\n",
        "tX0 = spltt.fit_transform(tX0)\n",
        "vX0 = spltt.transform(vX0)\n",
        "vX = spltt.transform(vX)"
      ],
      "metadata": {
        "id": "hiv_Lg9bM7SD"
      },
      "execution_count": null,
      "outputs": []
    },
    {
      "cell_type": "markdown",
      "metadata": {
        "id": "Ad1sRAY1_Uu7"
      },
      "source": [
        "<font color=green><h3><b>$\\beta$. Fit the model to the training dataset</b><h3>"
      ]
    },
    {
      "cell_type": "code",
      "execution_count": null,
      "metadata": {
        "id": "HXYrbQ2Rfzvv",
        "colab": {
          "base_uri": "https://localhost:8080/"
        },
        "outputId": "7c852e01-7588-4764-d450-9733380be5dc"
      },
      "outputs": [
        {
          "output_type": "stream",
          "name": "stdout",
          "text": [
            "0.93012\n"
          ]
        }
      ],
      "source": [
        "m = LDA(solver='lsqr',shrinkage=0.41)\n",
        "print(m.fit(tX0, tY0).score(vX0, vY0))   # fit the model and show test error"
      ]
    },
    {
      "cell_type": "code",
      "source": [
        "'''Cross validation for finding the optimal shrinkage parameter'''\n",
        "# from sklearn.discriminant_analysis import LinearDiscriminantAnalysis as LDA\n",
        "# from sklearn.model_selection import cross_val_score, StratifiedKFold\n",
        "\n",
        "# # Define solvers, shrinkages, and cross-validation setup\n",
        "# solvers = ['svd', 'lsqr']\n",
        "# solvers = ['lsqr']\n",
        "# shrinkages = [0.45,0.46,0.47,0.48,0.49,0.5]  # Include more values as needed\n",
        "# shrinkages = [0.38, 0.4, 0.42]  # Include more values as needed\n",
        "# cv = StratifiedKFold(n_splits=5)  # Example of 5-fold stratified cross-validation\n",
        "\n",
        "# # Iterate and test each combination with cross-validation\n",
        "# for solver in solvers:\n",
        "#     for shrinkage in shrinkages:\n",
        "#         # Only 'lsqr' and 'eigen' support shrinkage\n",
        "#         if solver in ['svd'] and shrinkage is not None:\n",
        "#             continue\n",
        "\n",
        "#         # Create LDA model\n",
        "#         m = LDA(solver=solver, shrinkage=shrinkage)\n",
        "\n",
        "#         # Perform cross-validation and calculate mean score\n",
        "#         scores = cross_val_score(m, tX0, tY0, cv=cv)\n",
        "#         mean_score = scores.mean()\n",
        "#         print(f\"Solver: {solver}, Shrinkage: {shrinkage}, Mean CV Score: {mean_score}\")\n",
        "# '''Best value for shrinkage is 0.9246'''\n",
        "\n",
        "# '''\n",
        "# Solver: lsqr, Shrinkage: 0.38, Mean CV Score: 0.9235200000000001\n",
        "# Solver: lsqr, Shrinkage: 0.4, Mean CV Score: 0.9235599999999999\n",
        "# Solver: lsqr, Shrinkage: 0.42, Mean CV Score: 0.9231199999999999\n",
        "# '''"
      ],
      "metadata": {
        "id": "Us7sQgfLPK2k",
        "colab": {
          "base_uri": "https://localhost:8080/",
          "height": 35
        },
        "outputId": "d4b7910e-70e7-4d14-ee10-41671abe947f"
      },
      "execution_count": null,
      "outputs": [
        {
          "output_type": "execute_result",
          "data": {
            "text/plain": [
              "'Cross validation for finding the optimal shrinkage parameter'"
            ],
            "application/vnd.google.colaboratory.intrinsic+json": {
              "type": "string"
            }
          },
          "metadata": {},
          "execution_count": 14
        }
      ]
    },
    {
      "cell_type": "markdown",
      "metadata": {
        "id": "YACmBWMZxViZ"
      },
      "source": [
        "<font color=green><h3><b>$\\gamma$. Generate predictions</b><h3>"
      ]
    },
    {
      "cell_type": "code",
      "execution_count": null,
      "metadata": {
        "id": "R0-jxlb2LiLL",
        "colab": {
          "base_uri": "https://localhost:8080/",
          "height": 144
        },
        "outputId": "8c82cb39-d6ac-4f57-8ec6-90d8bfca1a24"
      },
      "outputs": [
        {
          "output_type": "execute_result",
          "data": {
            "text/plain": [
              "                   unknown    aa     ao   dcl    sh     iy\n",
              "observed output g    10000  7635  11197  8340  9674  13154"
            ],
            "text/html": [
              "\n",
              "  <div id=\"df-637b8365-6647-4c7f-9eb3-44afbd923fe5\" class=\"colab-df-container\">\n",
              "    <div>\n",
              "<style scoped>\n",
              "    .dataframe tbody tr th:only-of-type {\n",
              "        vertical-align: middle;\n",
              "    }\n",
              "\n",
              "    .dataframe tbody tr th {\n",
              "        vertical-align: top;\n",
              "    }\n",
              "\n",
              "    .dataframe thead th {\n",
              "        text-align: right;\n",
              "    }\n",
              "</style>\n",
              "<table border=\"1\" class=\"dataframe\">\n",
              "  <thead>\n",
              "    <tr style=\"text-align: right;\">\n",
              "      <th></th>\n",
              "      <th>unknown</th>\n",
              "      <th>aa</th>\n",
              "      <th>ao</th>\n",
              "      <th>dcl</th>\n",
              "      <th>sh</th>\n",
              "      <th>iy</th>\n",
              "    </tr>\n",
              "  </thead>\n",
              "  <tbody>\n",
              "    <tr>\n",
              "      <th>observed output g</th>\n",
              "      <td>10000</td>\n",
              "      <td>7635</td>\n",
              "      <td>11197</td>\n",
              "      <td>8340</td>\n",
              "      <td>9674</td>\n",
              "      <td>13154</td>\n",
              "    </tr>\n",
              "  </tbody>\n",
              "</table>\n",
              "</div>\n",
              "    <div class=\"colab-df-buttons\">\n",
              "\n",
              "  <div class=\"colab-df-container\">\n",
              "    <button class=\"colab-df-convert\" onclick=\"convertToInteractive('df-637b8365-6647-4c7f-9eb3-44afbd923fe5')\"\n",
              "            title=\"Convert this dataframe to an interactive table.\"\n",
              "            style=\"display:none;\">\n",
              "\n",
              "  <svg xmlns=\"http://www.w3.org/2000/svg\" height=\"24px\" viewBox=\"0 -960 960 960\">\n",
              "    <path d=\"M120-120v-720h720v720H120Zm60-500h600v-160H180v160Zm220 220h160v-160H400v160Zm0 220h160v-160H400v160ZM180-400h160v-160H180v160Zm440 0h160v-160H620v160ZM180-180h160v-160H180v160Zm440 0h160v-160H620v160Z\"/>\n",
              "  </svg>\n",
              "    </button>\n",
              "\n",
              "  <style>\n",
              "    .colab-df-container {\n",
              "      display:flex;\n",
              "      gap: 12px;\n",
              "    }\n",
              "\n",
              "    .colab-df-convert {\n",
              "      background-color: #E8F0FE;\n",
              "      border: none;\n",
              "      border-radius: 50%;\n",
              "      cursor: pointer;\n",
              "      display: none;\n",
              "      fill: #1967D2;\n",
              "      height: 32px;\n",
              "      padding: 0 0 0 0;\n",
              "      width: 32px;\n",
              "    }\n",
              "\n",
              "    .colab-df-convert:hover {\n",
              "      background-color: #E2EBFA;\n",
              "      box-shadow: 0px 1px 2px rgba(60, 64, 67, 0.3), 0px 1px 3px 1px rgba(60, 64, 67, 0.15);\n",
              "      fill: #174EA6;\n",
              "    }\n",
              "\n",
              "    .colab-df-buttons div {\n",
              "      margin-bottom: 4px;\n",
              "    }\n",
              "\n",
              "    [theme=dark] .colab-df-convert {\n",
              "      background-color: #3B4455;\n",
              "      fill: #D2E3FC;\n",
              "    }\n",
              "\n",
              "    [theme=dark] .colab-df-convert:hover {\n",
              "      background-color: #434B5C;\n",
              "      box-shadow: 0px 1px 3px 1px rgba(0, 0, 0, 0.15);\n",
              "      filter: drop-shadow(0px 1px 2px rgba(0, 0, 0, 0.3));\n",
              "      fill: #FFFFFF;\n",
              "    }\n",
              "  </style>\n",
              "\n",
              "    <script>\n",
              "      const buttonEl =\n",
              "        document.querySelector('#df-637b8365-6647-4c7f-9eb3-44afbd923fe5 button.colab-df-convert');\n",
              "      buttonEl.style.display =\n",
              "        google.colab.kernel.accessAllowed ? 'block' : 'none';\n",
              "\n",
              "      async function convertToInteractive(key) {\n",
              "        const element = document.querySelector('#df-637b8365-6647-4c7f-9eb3-44afbd923fe5');\n",
              "        const dataTable =\n",
              "          await google.colab.kernel.invokeFunction('convertToInteractive',\n",
              "                                                    [key], {});\n",
              "        if (!dataTable) return;\n",
              "\n",
              "        const docLinkHtml = 'Like what you see? Visit the ' +\n",
              "          '<a target=\"_blank\" href=https://colab.research.google.com/notebooks/data_table.ipynb>data table notebook</a>'\n",
              "          + ' to learn more about interactive tables.';\n",
              "        element.innerHTML = '';\n",
              "        dataTable['output_type'] = 'display_data';\n",
              "        await google.colab.output.renderOutput(dataTable, element);\n",
              "        const docLink = document.createElement('div');\n",
              "        docLink.innerHTML = docLinkHtml;\n",
              "        element.appendChild(docLink);\n",
              "      }\n",
              "    </script>\n",
              "  </div>\n",
              "\n",
              "    </div>\n",
              "  </div>\n"
            ]
          },
          "metadata": {},
          "execution_count": 15
        },
        {
          "output_type": "execute_result",
          "data": {
            "text/plain": [
              "g                     aa    ao   dcl    iy    sh\n",
              "predicted output g  1405  2378  1637  2634  1946"
            ],
            "text/html": [
              "\n",
              "  <div id=\"df-4950549c-7589-4569-8e0d-22ce12eddc72\" class=\"colab-df-container\">\n",
              "    <div>\n",
              "<style scoped>\n",
              "    .dataframe tbody tr th:only-of-type {\n",
              "        vertical-align: middle;\n",
              "    }\n",
              "\n",
              "    .dataframe tbody tr th {\n",
              "        vertical-align: top;\n",
              "    }\n",
              "\n",
              "    .dataframe thead tr th {\n",
              "        text-align: left;\n",
              "    }\n",
              "</style>\n",
              "<table border=\"1\" class=\"dataframe\">\n",
              "  <thead>\n",
              "    <tr>\n",
              "      <th>g</th>\n",
              "      <th>aa</th>\n",
              "      <th>ao</th>\n",
              "      <th>dcl</th>\n",
              "      <th>iy</th>\n",
              "      <th>sh</th>\n",
              "    </tr>\n",
              "  </thead>\n",
              "  <tbody>\n",
              "    <tr>\n",
              "      <th>predicted output g</th>\n",
              "      <td>1405</td>\n",
              "      <td>2378</td>\n",
              "      <td>1637</td>\n",
              "      <td>2634</td>\n",
              "      <td>1946</td>\n",
              "    </tr>\n",
              "  </tbody>\n",
              "</table>\n",
              "</div>\n",
              "    <div class=\"colab-df-buttons\">\n",
              "\n",
              "  <div class=\"colab-df-container\">\n",
              "    <button class=\"colab-df-convert\" onclick=\"convertToInteractive('df-4950549c-7589-4569-8e0d-22ce12eddc72')\"\n",
              "            title=\"Convert this dataframe to an interactive table.\"\n",
              "            style=\"display:none;\">\n",
              "\n",
              "  <svg xmlns=\"http://www.w3.org/2000/svg\" height=\"24px\" viewBox=\"0 -960 960 960\">\n",
              "    <path d=\"M120-120v-720h720v720H120Zm60-500h600v-160H180v160Zm220 220h160v-160H400v160Zm0 220h160v-160H400v160ZM180-400h160v-160H180v160Zm440 0h160v-160H620v160ZM180-180h160v-160H180v160Zm440 0h160v-160H620v160Z\"/>\n",
              "  </svg>\n",
              "    </button>\n",
              "\n",
              "  <style>\n",
              "    .colab-df-container {\n",
              "      display:flex;\n",
              "      gap: 12px;\n",
              "    }\n",
              "\n",
              "    .colab-df-convert {\n",
              "      background-color: #E8F0FE;\n",
              "      border: none;\n",
              "      border-radius: 50%;\n",
              "      cursor: pointer;\n",
              "      display: none;\n",
              "      fill: #1967D2;\n",
              "      height: 32px;\n",
              "      padding: 0 0 0 0;\n",
              "      width: 32px;\n",
              "    }\n",
              "\n",
              "    .colab-df-convert:hover {\n",
              "      background-color: #E2EBFA;\n",
              "      box-shadow: 0px 1px 2px rgba(60, 64, 67, 0.3), 0px 1px 3px 1px rgba(60, 64, 67, 0.15);\n",
              "      fill: #174EA6;\n",
              "    }\n",
              "\n",
              "    .colab-df-buttons div {\n",
              "      margin-bottom: 4px;\n",
              "    }\n",
              "\n",
              "    [theme=dark] .colab-df-convert {\n",
              "      background-color: #3B4455;\n",
              "      fill: #D2E3FC;\n",
              "    }\n",
              "\n",
              "    [theme=dark] .colab-df-convert:hover {\n",
              "      background-color: #434B5C;\n",
              "      box-shadow: 0px 1px 3px 1px rgba(0, 0, 0, 0.15);\n",
              "      filter: drop-shadow(0px 1px 2px rgba(0, 0, 0, 0.3));\n",
              "      fill: #FFFFFF;\n",
              "    }\n",
              "  </style>\n",
              "\n",
              "    <script>\n",
              "      const buttonEl =\n",
              "        document.querySelector('#df-4950549c-7589-4569-8e0d-22ce12eddc72 button.colab-df-convert');\n",
              "      buttonEl.style.display =\n",
              "        google.colab.kernel.accessAllowed ? 'block' : 'none';\n",
              "\n",
              "      async function convertToInteractive(key) {\n",
              "        const element = document.querySelector('#df-4950549c-7589-4569-8e0d-22ce12eddc72');\n",
              "        const dataTable =\n",
              "          await google.colab.kernel.invokeFunction('convertToInteractive',\n",
              "                                                    [key], {});\n",
              "        if (!dataTable) return;\n",
              "\n",
              "        const docLinkHtml = 'Like what you see? Visit the ' +\n",
              "          '<a target=\"_blank\" href=https://colab.research.google.com/notebooks/data_table.ipynb>data table notebook</a>'\n",
              "          + ' to learn more about interactive tables.';\n",
              "        element.innerHTML = '';\n",
              "        dataTable['output_type'] = 'display_data';\n",
              "        await google.colab.output.renderOutput(dataTable, element);\n",
              "        const docLink = document.createElement('div');\n",
              "        docLink.innerHTML = docLinkHtml;\n",
              "        element.appendChild(docLink);\n",
              "      }\n",
              "    </script>\n",
              "  </div>\n",
              "\n",
              "    </div>\n",
              "  </div>\n"
            ]
          },
          "metadata": {},
          "execution_count": 15
        }
      ],
      "source": [
        "pY = pd.DataFrame(m.predict(vX), index=range(1,len(vX)+1), columns=['g'])  # ensure that labels and observations are in corresponding order\n",
        "pd.DataFrame(df.g.fillna('unknown').value_counts(sort=False)).rename(columns={'g':'observed output g'}).T   # distribution of all train labels\n",
        "pd.DataFrame(pY.value_counts(sort=False)).rename(columns={0:'predicted output g'}).T\n",
        "ToCSV(pY, '👂Baseline')"
      ]
    },
    {
      "cell_type": "markdown",
      "metadata": {
        "id": "aMVDxm-kEJis"
      },
      "source": [
        "<font color=green><h3><b>$\\epsilon$. Documentation</b></h3></font>"
      ]
    },
    {
      "cell_type": "markdown",
      "metadata": {
        "id": "OtOV3RVcwHAD"
      },
      "source": [
        "<font color=green><h4><b>Task 1. Explain Decisions in Preprocessing Pipeline</b></h4></font>\n",
        "\n",
        "<font color=green>\n",
        "Explain elements of your preprocessing pipeline i.e. feature engineering, subsampling, clustering, dimensionality reduction, etc.</font>\n",
        "\n",
        "<font color=green>\n",
        "\n",
        "1. Why did you choose these elements? (Something in EDA, prior experience,...? Note: EDA is not required)\n",
        "1. How do you evaluate the effectiveness of these elements?\n",
        "1. What else have you tried that worked or didn't?\n",
        "\n",
        "</font>"
      ]
    },
    {
      "cell_type": "markdown",
      "metadata": {
        "id": "39zfwMOXwHAD"
      },
      "source": [
        " In order to reduce noise and capture underlying patterns in the data we use Spline transformation. After we use Standard scaling to ensure that all features are on the same scale. Also, spline transformation may capture non-linear relationships in the data, enhancing the model's ability to generalize."
      ]
    },
    {
      "cell_type": "markdown",
      "metadata": {
        "id": "ppwkSmoEwHAD"
      },
      "source": [
        "<font color=green><h4><b>Task 2. Explain Decisions in Modeling Pipeline</b></h4></font>\n",
        "\n",
        "<font color=green>\n",
        "Explain your modeling approach, i.e. ideas you tried and why you thought they would be helpful.\n",
        "\n",
        "1. How did these decisions guide you in modeling?\n",
        "1. How do you evaluate the effectiveness of these elements?\n",
        "1. What else have you tried that worked or didn't?\n",
        "\n",
        "</font>"
      ]
    },
    {
      "cell_type": "markdown",
      "metadata": {
        "id": "vBXlrkB9wHAD"
      },
      "source": [
        "LDA is chosen for its ability to find linear combinations of features that best separate different classes, making it suitable for classification tasks. Tuning the shrinkage parameter helps improve the model's performance by regularizing the covariance matrix estimation. Cross-validation provides a robust estimate of how well the model will generalize to unseen data, helping to choose the best combination of parameters and polynomial features might capture non-linear relationships in the data, potentially improving the model's performance."
      ]
    },
    {
      "cell_type": "markdown",
      "metadata": {
        "id": "pzBsjCvS_kEw"
      },
      "source": [
        "<font color=green><h3><b>$\\zeta$. References</b></h3></font>"
      ]
    },
    {
      "cell_type": "markdown",
      "metadata": {
        "id": "2kr8Q-9T_nAb"
      },
      "source": [
        "<font color=green>\n",
        "Cite your sources to help your peers learn from these (and to avoid plagiarism claims). At the least, HOML textbook should be cited. Use Google Scholar to draw APA citation format for books and publications. Also cite StackOverflow, package documentation, and other meaningful internet resources.\n",
        "\n",
        "1. google.com\n",
        "2. kaggle.com\n",
        "3. scikit-learn.org"
      ]
    },
    {
      "cell_type": "markdown",
      "metadata": {
        "id": "DoF2GoB_QGw9"
      },
      "source": [
        "<font size=5>⌛</font> <strong><font color=green size=5>Do not exceed competition's runtime limit! Do not write code outside TGP</font></strong>\n",
        "<hr color=green size=40>"
      ]
    },
    {
      "cell_type": "code",
      "execution_count": null,
      "metadata": {
        "id": "bD1sdgYbNWQA",
        "colab": {
          "base_uri": "https://localhost:8080/"
        },
        "outputId": "f2646aa1-d014-4364-b8bc-ffcf4a8c5a65"
      },
      "outputs": [
        {
          "output_type": "stream",
          "name": "stdout",
          "text": [
            "Runtime is 23 sec\n"
          ]
        }
      ],
      "source": [
        "tmr.ShowTime()    # measure Colab's runtime. Do not remove. Keep as the last cell in your notebook."
      ]
    },
    {
      "cell_type": "markdown",
      "metadata": {
        "id": "oUStTaN4uo_Z"
      },
      "source": [
        "## 💡**Starter Ideas**"
      ]
    },
    {
      "cell_type": "markdown",
      "metadata": {
        "id": "q4QO-u3t8xAO"
      },
      "source": [
        "1. Tune model hyperparameters\n",
        "1. Try smarter sampling from the training set to avoid using all observations (due to time constraint) and, instead, develop more features\n",
        "1. Try feature restriction, selection, and regularization (see ESL pp.140-141)\n",
        "1. Do a thorough EDA: look for feature augmentations that result in linear decision boundaries between pairs of classes.\n",
        "1. Try encoding and/or incorporating speaker ID. For example, you could scale/transform each speaker's observations separately.\n",
        "1. Carefully read the example in [ESL textbook, p.149](https://hastie.su.domains/ElemStatLearn/printings/ESLII_print12.pdf#page=168), check seminar Colab and lecture slides\n",
        "1. Check difference in distribution between test and train data. You might consider [group k-fold](https://scikit-learn.org/stable/modules/classes.html#module-sklearn.model_selection) for testing locally or your model will memorize user-phoneme releation, instead of phoneme attributes and class.\n",
        "1. Learn the domain to develop better features. See [\"Penalized discriminant analysis\"](https://scholar.google.com/scholar?hl=en&as_sdt=0%2C48&q=Penalized+Discriminant+Analysis&btnG=)\n",
        "1. Look for training outliers that can affect your model's test performance.\n",
        "  1. Essentially, you need to find and exclude training [influential points](https://en.wikipedia.org/wiki/Influential_observation), but training outliers might be influential\n",
        "  1. Brute force with [LOOCV](https://en.wikipedia.org/wiki/Cross-validation_(statistics)#Leave-one-out_cross-validation) is slow, but robust. You might find methods to find each training point's contribution to the prediction and remove rare extreme contributors (since they may not be in the test set)\n",
        "  1. You can find outliers; then evaluate their effect on model's performance\n",
        "    1. You can evaluate 1D and 2D histograms to find outliers and\n",
        "    1. You can cluster observations and find outliers that don't fit the clusters (DBSCAN may be helpful)\n",
        "    1. You can compress high dimensional space to 1D (with PCA, tSNE, UMAP) and then find outliers with a histogram\n",
        " 1. Additional info:\n",
        "    1. Harmonics: [wiki](https://en.wikipedia.org/wiki/Harmonic), [sinusoidal regression](https://www.youtube.com/results?search_query=regression+sinusoidal)\n",
        "    1. Discrete Fourier Transofrm (DFT): [wiki](https://en.wikipedia.org/wiki/Discrete_Fourier_transform), [Steve Brunton @UW](https://www.youtube.com/watch?v=nl9TZanwbBk), [YouTube search](https://www.youtube.com/results?search_query=Discrete+Fourier+transform)\n",
        "    1. Spectral density estimation [(wiki)](https://en.wikipedia.org/wiki/Spectral_density_estimation), [YouTube search](https://www.youtube.com/results?search_query=spectral+density+estimation)\n",
        "\n",
        "\n"
      ]
    },
    {
      "cell_type": "code",
      "execution_count": null,
      "metadata": {
        "id": "tLlIseR-EcrE"
      },
      "outputs": [],
      "source": []
    }
  ],
  "metadata": {
    "colab": {
      "provenance": []
    },
    "kernelspec": {
      "display_name": "Python 3",
      "name": "python3"
    },
    "language_info": {
      "name": "python"
    }
  },
  "nbformat": 4,
  "nbformat_minor": 0
}