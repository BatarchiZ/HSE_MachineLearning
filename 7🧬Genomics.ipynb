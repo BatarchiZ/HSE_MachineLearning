{
  "cells": [
    {
      "cell_type": "markdown",
      "metadata": {
        "id": "JbiR4YHvyX1f"
      },
      "source": [
        "<small><font color=gray>Notebook author: <a href=\"https://www.linkedin.com/in/olegmelnikov/\" target=\"_blank\">Oleg Melnikov</a> ©2021 onwards</font></small><hr style=\"margin:0;background-color:silver\">\n",
        "\n",
        "**[<font size=6>🧬Genomics</font>](https://www.kaggle.com/competitions/4dec23hse-genomics/rules)**. [**Instructions**](https://colab.research.google.com/drive/1owkYjuRGkx050LQnM3b3yTzd0Dr2XbeV) for running Colabs."
      ]
    },
    {
      "cell_type": "markdown",
      "metadata": {
        "id": "mwuPxmU5NFLz"
      },
      "source": [
        "<small>**(Optional) CONSENT.** <mark>[ X ]</mark> We consent to sharing our Colab (after the assignment ends) with other students/instructors for educational purposes. We understand that sharing is optional and this decision will not affect our grade in any way. <font color=gray><i>(If ok with sharing your Colab for educational purposes, leave \"X\" in the check box.)</i></font></small>"
      ]
    },
    {
      "cell_type": "code",
      "execution_count": null,
      "metadata": {
        "colab": {
          "base_uri": "https://localhost:8080/"
        },
        "id": "4ZK9-jiByA4Z",
        "outputId": "fbaae696-dab0-4d78-a30b-16c36ef6364c"
      },
      "outputs": [
        {
          "output_type": "stream",
          "name": "stdout",
          "text": [
            "Drive already mounted at /content/drive; to attempt to forcibly remount, call drive.mount(\"/content/drive\", force_remount=True).\n"
          ]
        }
      ],
      "source": [
        "from google.colab import drive; drive.mount('/content/drive')   # OK to enable, if your kaggle.json is stored in Google Drive"
      ]
    },
    {
      "cell_type": "code",
      "execution_count": null,
      "metadata": {
        "colab": {
          "base_uri": "https://localhost:8080/"
        },
        "id": "dt1AeSYEx5kV",
        "outputId": "4b7e8f3e-4829-4479-aa99-c2851041883e"
      },
      "outputs": [
        {
          "output_type": "stream",
          "name": "stdout",
          "text": [
            "cp: cannot stat 'kaggle.json': No such file or directory\n",
            "- competition is now set to: 4dec23hse-genomics\n"
          ]
        }
      ],
      "source": [
        "!pip -q install --upgrade --force-reinstall --no-deps kaggle > log  # upgrade kaggle package (to avoid a warning)\n",
        "!mkdir -p ~/.kaggle                               # .kaggle folder must contain kaggle.json for kaggle executable to properly authenticate you to Kaggle.com\n",
        "!cp /content/drive/MyDrive/kaggle.json ~/.kaggle/kaggle.json >log  # First, download kaggle.json from kaggle.com (in Account page) and place it in the root of mounted Google Drive\n",
        "!cp kaggle.json ~/.kaggle/kaggle.json > log       # Alternative location of kaggle.json (without a connection to Google Drive)\n",
        "!chmod 600 ~/.kaggle/kaggle.json                  # give only the owner full read/write access to kaggle.json\n",
        "!kaggle config set -n competition -v 4dec23hse-genomics # set the competition context for the next few kaggle API calls. !kaggle config view - shows current settings\n",
        "!kaggle competitions download >> log              # download competition dataset as a zip file\n",
        "!unzip -o *.zip >> log                            # Kaggle dataset is copied as a single file and needs to be unzipped.\n",
        "# !kaggle competitions leaderboard --show           # print public leaderboard"
      ]
    },
    {
      "cell_type": "code",
      "execution_count": null,
      "metadata": {
        "colab": {
          "base_uri": "https://localhost:8080/"
        },
        "id": "4Im40LyqyJuA",
        "outputId": "9be75a17-8e6c-4c8e-85d7-3d9e6a3853ed"
      },
      "outputs": [
        {
          "output_type": "stream",
          "name": "stdout",
          "text": [
            "name, memory.total [MiB], memory.free [MiB], memory.used [MiB]\n",
            "Tesla T4, 15360 MiB, 15101 MiB, 0 MiB\n"
          ]
        }
      ],
      "source": [
        "!nvidia-smi --query-gpu=gpu_name,memory.total,memory.free,memory.used --format=csv # GPU specs"
      ]
    },
    {
      "cell_type": "code",
      "execution_count": null,
      "metadata": {
        "colab": {
          "base_uri": "https://localhost:8080/"
        },
        "id": "yGUK_EcvtN8y",
        "outputId": "97f9cf67-2af9-429d-967d-0697ab82f171"
      },
      "outputs": [
        {
          "output_type": "stream",
          "name": "stdout",
          "text": [
            "CPU times: user 451 ms, sys: 12 ms, total: 463 ms\n",
            "Wall time: 8.14 s\n"
          ]
        }
      ],
      "source": [
        "%%time\n",
        "%%capture\n",
        "%reset -f\n",
        "!pip -q install -U sentence-transformers > log\n",
        "from IPython.core.interactiveshell import InteractiveShell as IS; IS.ast_node_interactivity = \"all\"\n",
        "import numpy as np, pandas as pd, time, matplotlib.pyplot as plt, os, plotly\n",
        "from sklearn.model_selection import train_test_split\n",
        "from sentence_transformers import SentenceTransformer as SBERT\n",
        "from sklearn.svm import SVC, LinearSVC, NuSVC\n",
        "ToCSV = lambda df, fname: df.round(2).to_csv(f'{fname}.csv', index_label='id') # rounds values to 2 decimals\n",
        "\n",
        "class Timer():\n",
        "  def __init__(self, lim:'RunTimeLimit'=60*5): self.t0, self.lim, _ = time.time(), lim, print(f'⏳ started. You have {lim} sec. Good luck!')\n",
        "  def ShowTime(self):\n",
        "    msg = f'Runtime is {time.time()-self.t0:.0f} sec'\n",
        "    print(f'\\033[91m\\033[1m' + msg + f' > {self.lim} sec limit!!!\\033[0m' if (time.time()-self.t0-1) > self.lim else msg)\n",
        "\n",
        "np.set_printoptions(linewidth=10000, precision=4, edgeitems=20, suppress=True)\n",
        "pd.set_option('display.max_rows', 100, 'display.max_columns', 100, 'display.max_colwidth', 100, 'display.precision', 2, 'display.max_rows', 4)"
      ]
    },
    {
      "cell_type": "code",
      "execution_count": null,
      "metadata": {
        "colab": {
          "base_uri": "https://localhost:8080/",
          "height": 224
        },
        "id": "I1TC9f43ItUY",
        "outputId": "89e53ec8-60d1-4b83-ec4c-660161c76c12"
      },
      "outputs": [
        {
          "output_type": "execute_result",
          "data": {
            "text/plain": [
              "                                                                                                        DNA\n",
              "id                                                                                                         \n",
              "100000  TTGATTAATAAGATTCCTTGACACCCTTTGTAAAGTTTCTATTTCGTGTGAAATATCTATCTCTTCAAATCCTTTTAATTTATCTAGGTATTTGCT...\n",
              "100001  ATTAGTAACGGAGGATTTACTAGATGTTTGGATTTATATTCTAATTTTATTCAGGTGGAAGGGATTGTTTTATGATTCAATAGTATACAGAGAATA...\n",
              "...                                                                                                     ...\n",
              "119998  CGTCGGCATGCTCGGGCAGTGCGGCGGGCCAGCAGCGTGCCAGTTGTCGCGGGGCGGCCGGGCATCGCGGCGCCGGGCGGCAGCACTCCCGCGAAG...\n",
              "119999  GCGAGGGCACGAAGGCACGACGGCAACGGCGGCGAGGAGCGCTGTGGCAACCGTCTCCGCGTTTGCGTGCGTACAGCCGAGAGCTGGTTCGCGCAG...\n",
              "\n",
              "[20000 rows x 1 columns]"
            ],
            "text/html": [
              "\n",
              "  <div id=\"df-2b4342e5-6fc4-486a-92e7-b86dc1451619\" class=\"colab-df-container\">\n",
              "    <div>\n",
              "<style scoped>\n",
              "    .dataframe tbody tr th:only-of-type {\n",
              "        vertical-align: middle;\n",
              "    }\n",
              "\n",
              "    .dataframe tbody tr th {\n",
              "        vertical-align: top;\n",
              "    }\n",
              "\n",
              "    .dataframe thead th {\n",
              "        text-align: right;\n",
              "    }\n",
              "</style>\n",
              "<table border=\"1\" class=\"dataframe\">\n",
              "  <thead>\n",
              "    <tr style=\"text-align: right;\">\n",
              "      <th></th>\n",
              "      <th>DNA</th>\n",
              "    </tr>\n",
              "    <tr>\n",
              "      <th>id</th>\n",
              "      <th></th>\n",
              "    </tr>\n",
              "  </thead>\n",
              "  <tbody>\n",
              "    <tr>\n",
              "      <th>100000</th>\n",
              "      <td>TTGATTAATAAGATTCCTTGACACCCTTTGTAAAGTTTCTATTTCGTGTGAAATATCTATCTCTTCAAATCCTTTTAATTTATCTAGGTATTTGCT...</td>\n",
              "    </tr>\n",
              "    <tr>\n",
              "      <th>100001</th>\n",
              "      <td>ATTAGTAACGGAGGATTTACTAGATGTTTGGATTTATATTCTAATTTTATTCAGGTGGAAGGGATTGTTTTATGATTCAATAGTATACAGAGAATA...</td>\n",
              "    </tr>\n",
              "    <tr>\n",
              "      <th>...</th>\n",
              "      <td>...</td>\n",
              "    </tr>\n",
              "    <tr>\n",
              "      <th>119998</th>\n",
              "      <td>CGTCGGCATGCTCGGGCAGTGCGGCGGGCCAGCAGCGTGCCAGTTGTCGCGGGGCGGCCGGGCATCGCGGCGCCGGGCGGCAGCACTCCCGCGAAG...</td>\n",
              "    </tr>\n",
              "    <tr>\n",
              "      <th>119999</th>\n",
              "      <td>GCGAGGGCACGAAGGCACGACGGCAACGGCGGCGAGGAGCGCTGTGGCAACCGTCTCCGCGTTTGCGTGCGTACAGCCGAGAGCTGGTTCGCGCAG...</td>\n",
              "    </tr>\n",
              "  </tbody>\n",
              "</table>\n",
              "<p>20000 rows × 1 columns</p>\n",
              "</div>\n",
              "    <div class=\"colab-df-buttons\">\n",
              "\n",
              "  <div class=\"colab-df-container\">\n",
              "    <button class=\"colab-df-convert\" onclick=\"convertToInteractive('df-2b4342e5-6fc4-486a-92e7-b86dc1451619')\"\n",
              "            title=\"Convert this dataframe to an interactive table.\"\n",
              "            style=\"display:none;\">\n",
              "\n",
              "  <svg xmlns=\"http://www.w3.org/2000/svg\" height=\"24px\" viewBox=\"0 -960 960 960\">\n",
              "    <path d=\"M120-120v-720h720v720H120Zm60-500h600v-160H180v160Zm220 220h160v-160H400v160Zm0 220h160v-160H400v160ZM180-400h160v-160H180v160Zm440 0h160v-160H620v160ZM180-180h160v-160H180v160Zm440 0h160v-160H620v160Z\"/>\n",
              "  </svg>\n",
              "    </button>\n",
              "\n",
              "  <style>\n",
              "    .colab-df-container {\n",
              "      display:flex;\n",
              "      gap: 12px;\n",
              "    }\n",
              "\n",
              "    .colab-df-convert {\n",
              "      background-color: #E8F0FE;\n",
              "      border: none;\n",
              "      border-radius: 50%;\n",
              "      cursor: pointer;\n",
              "      display: none;\n",
              "      fill: #1967D2;\n",
              "      height: 32px;\n",
              "      padding: 0 0 0 0;\n",
              "      width: 32px;\n",
              "    }\n",
              "\n",
              "    .colab-df-convert:hover {\n",
              "      background-color: #E2EBFA;\n",
              "      box-shadow: 0px 1px 2px rgba(60, 64, 67, 0.3), 0px 1px 3px 1px rgba(60, 64, 67, 0.15);\n",
              "      fill: #174EA6;\n",
              "    }\n",
              "\n",
              "    .colab-df-buttons div {\n",
              "      margin-bottom: 4px;\n",
              "    }\n",
              "\n",
              "    [theme=dark] .colab-df-convert {\n",
              "      background-color: #3B4455;\n",
              "      fill: #D2E3FC;\n",
              "    }\n",
              "\n",
              "    [theme=dark] .colab-df-convert:hover {\n",
              "      background-color: #434B5C;\n",
              "      box-shadow: 0px 1px 3px 1px rgba(0, 0, 0, 0.15);\n",
              "      filter: drop-shadow(0px 1px 2px rgba(0, 0, 0, 0.3));\n",
              "      fill: #FFFFFF;\n",
              "    }\n",
              "  </style>\n",
              "\n",
              "    <script>\n",
              "      const buttonEl =\n",
              "        document.querySelector('#df-2b4342e5-6fc4-486a-92e7-b86dc1451619 button.colab-df-convert');\n",
              "      buttonEl.style.display =\n",
              "        google.colab.kernel.accessAllowed ? 'block' : 'none';\n",
              "\n",
              "      async function convertToInteractive(key) {\n",
              "        const element = document.querySelector('#df-2b4342e5-6fc4-486a-92e7-b86dc1451619');\n",
              "        const dataTable =\n",
              "          await google.colab.kernel.invokeFunction('convertToInteractive',\n",
              "                                                    [key], {});\n",
              "        if (!dataTable) return;\n",
              "\n",
              "        const docLinkHtml = 'Like what you see? Visit the ' +\n",
              "          '<a target=\"_blank\" href=https://colab.research.google.com/notebooks/data_table.ipynb>data table notebook</a>'\n",
              "          + ' to learn more about interactive tables.';\n",
              "        element.innerHTML = '';\n",
              "        dataTable['output_type'] = 'display_data';\n",
              "        await google.colab.output.renderOutput(dataTable, element);\n",
              "        const docLink = document.createElement('div');\n",
              "        docLink.innerHTML = docLinkHtml;\n",
              "        element.appendChild(docLink);\n",
              "      }\n",
              "    </script>\n",
              "  </div>\n",
              "\n",
              "\n",
              "<div id=\"df-a0fa5d7f-7548-4529-be49-29a4899ac394\">\n",
              "  <button class=\"colab-df-quickchart\" onclick=\"quickchart('df-a0fa5d7f-7548-4529-be49-29a4899ac394')\"\n",
              "            title=\"Suggest charts\"\n",
              "            style=\"display:none;\">\n",
              "\n",
              "<svg xmlns=\"http://www.w3.org/2000/svg\" height=\"24px\"viewBox=\"0 0 24 24\"\n",
              "     width=\"24px\">\n",
              "    <g>\n",
              "        <path d=\"M19 3H5c-1.1 0-2 .9-2 2v14c0 1.1.9 2 2 2h14c1.1 0 2-.9 2-2V5c0-1.1-.9-2-2-2zM9 17H7v-7h2v7zm4 0h-2V7h2v10zm4 0h-2v-4h2v4z\"/>\n",
              "    </g>\n",
              "</svg>\n",
              "  </button>\n",
              "\n",
              "<style>\n",
              "  .colab-df-quickchart {\n",
              "      --bg-color: #E8F0FE;\n",
              "      --fill-color: #1967D2;\n",
              "      --hover-bg-color: #E2EBFA;\n",
              "      --hover-fill-color: #174EA6;\n",
              "      --disabled-fill-color: #AAA;\n",
              "      --disabled-bg-color: #DDD;\n",
              "  }\n",
              "\n",
              "  [theme=dark] .colab-df-quickchart {\n",
              "      --bg-color: #3B4455;\n",
              "      --fill-color: #D2E3FC;\n",
              "      --hover-bg-color: #434B5C;\n",
              "      --hover-fill-color: #FFFFFF;\n",
              "      --disabled-bg-color: #3B4455;\n",
              "      --disabled-fill-color: #666;\n",
              "  }\n",
              "\n",
              "  .colab-df-quickchart {\n",
              "    background-color: var(--bg-color);\n",
              "    border: none;\n",
              "    border-radius: 50%;\n",
              "    cursor: pointer;\n",
              "    display: none;\n",
              "    fill: var(--fill-color);\n",
              "    height: 32px;\n",
              "    padding: 0;\n",
              "    width: 32px;\n",
              "  }\n",
              "\n",
              "  .colab-df-quickchart:hover {\n",
              "    background-color: var(--hover-bg-color);\n",
              "    box-shadow: 0 1px 2px rgba(60, 64, 67, 0.3), 0 1px 3px 1px rgba(60, 64, 67, 0.15);\n",
              "    fill: var(--button-hover-fill-color);\n",
              "  }\n",
              "\n",
              "  .colab-df-quickchart-complete:disabled,\n",
              "  .colab-df-quickchart-complete:disabled:hover {\n",
              "    background-color: var(--disabled-bg-color);\n",
              "    fill: var(--disabled-fill-color);\n",
              "    box-shadow: none;\n",
              "  }\n",
              "\n",
              "  .colab-df-spinner {\n",
              "    border: 2px solid var(--fill-color);\n",
              "    border-color: transparent;\n",
              "    border-bottom-color: var(--fill-color);\n",
              "    animation:\n",
              "      spin 1s steps(1) infinite;\n",
              "  }\n",
              "\n",
              "  @keyframes spin {\n",
              "    0% {\n",
              "      border-color: transparent;\n",
              "      border-bottom-color: var(--fill-color);\n",
              "      border-left-color: var(--fill-color);\n",
              "    }\n",
              "    20% {\n",
              "      border-color: transparent;\n",
              "      border-left-color: var(--fill-color);\n",
              "      border-top-color: var(--fill-color);\n",
              "    }\n",
              "    30% {\n",
              "      border-color: transparent;\n",
              "      border-left-color: var(--fill-color);\n",
              "      border-top-color: var(--fill-color);\n",
              "      border-right-color: var(--fill-color);\n",
              "    }\n",
              "    40% {\n",
              "      border-color: transparent;\n",
              "      border-right-color: var(--fill-color);\n",
              "      border-top-color: var(--fill-color);\n",
              "    }\n",
              "    60% {\n",
              "      border-color: transparent;\n",
              "      border-right-color: var(--fill-color);\n",
              "    }\n",
              "    80% {\n",
              "      border-color: transparent;\n",
              "      border-right-color: var(--fill-color);\n",
              "      border-bottom-color: var(--fill-color);\n",
              "    }\n",
              "    90% {\n",
              "      border-color: transparent;\n",
              "      border-bottom-color: var(--fill-color);\n",
              "    }\n",
              "  }\n",
              "</style>\n",
              "\n",
              "  <script>\n",
              "    async function quickchart(key) {\n",
              "      const quickchartButtonEl =\n",
              "        document.querySelector('#' + key + ' button');\n",
              "      quickchartButtonEl.disabled = true;  // To prevent multiple clicks.\n",
              "      quickchartButtonEl.classList.add('colab-df-spinner');\n",
              "      try {\n",
              "        const charts = await google.colab.kernel.invokeFunction(\n",
              "            'suggestCharts', [key], {});\n",
              "      } catch (error) {\n",
              "        console.error('Error during call to suggestCharts:', error);\n",
              "      }\n",
              "      quickchartButtonEl.classList.remove('colab-df-spinner');\n",
              "      quickchartButtonEl.classList.add('colab-df-quickchart-complete');\n",
              "    }\n",
              "    (() => {\n",
              "      let quickchartButtonEl =\n",
              "        document.querySelector('#df-a0fa5d7f-7548-4529-be49-29a4899ac394 button');\n",
              "      quickchartButtonEl.style.display =\n",
              "        google.colab.kernel.accessAllowed ? 'block' : 'none';\n",
              "    })();\n",
              "  </script>\n",
              "</div>\n",
              "    </div>\n",
              "  </div>\n"
            ]
          },
          "metadata": {},
          "execution_count": 41
        }
      ],
      "source": [
        "vX = pd.read_csv('testX/testX.csv').set_index('id')\n",
        "tYX = pd.read_csv('trainYX/trainYX.csv').set_index('id')\n",
        "vX"
      ]
    },
    {
      "cell_type": "code",
      "execution_count": null,
      "metadata": {
        "colab": {
          "base_uri": "https://localhost:8080/"
        },
        "id": "1JVbzlnuIud4",
        "outputId": "80870868-e7ff-4e70-cec6-349246fc1e56"
      },
      "outputs": [
        {
          "output_type": "stream",
          "name": "stdout",
          "text": [
            "⏳ started. You have 300 sec. Good luck!\n"
          ]
        }
      ],
      "source": [
        "tmr = Timer() # runtime limit (in seconds). Add all of your code after the timer"
      ]
    },
    {
      "cell_type": "markdown",
      "metadata": {
        "id": "NLxefmk0Iz0U"
      },
      "source": [
        "❗Do not modify the setup above."
      ]
    },
    {
      "cell_type": "markdown",
      "metadata": {
        "id": "3NcTKbw3KhAn"
      },
      "source": [
        "<hr color=red>\n",
        "\n",
        "<font size=5>⏳</font> <strong><font color=orange size=5>Your Code, Documentation, Ideas and Timer - All Start Here...</font></strong>\n",
        "\n",
        "Students: Keep all your definitions, code, documentation **between** ⏳ symbols."
      ]
    },
    {
      "cell_type": "markdown",
      "metadata": {
        "id": "OpyLNt3god0c"
      },
      "source": [
        "## **Task 1. Preprocessing Pipeline**\n",
        "\n",
        "Explain elements of your preprocessing pipeline i.e. feature engineering, subsampling, clustering, dimensionality reduction, etc.\n",
        "1. Why did you choose these elements? (Something in EDA, prior experience,...? Btw, EDA is not required)\n",
        "1. How do you evaluate the effectiveness of these elements?\n",
        "1. What else have you tried that worked or didn't?"
      ]
    },
    {
      "cell_type": "markdown",
      "metadata": {
        "id": "30xYIFXAnaPE"
      },
      "source": [
        "**Student's answer:**\n",
        "\n",
        "To help understand the main objective of the task the proposed videos for learning about DNA were watched. It helped to understand that the bacterias can be classified based on the sequence of their DNA if the SBERT model is used in order to encode and combine chunks. You can observe the function \"encode_and_combine\" in the code which helps us to realise this idea.\n",
        "\n",
        "There is also a commented function \"parallel-embedding\". However, it did not provide any additional improvements in the score. (might be that Collab has only one GPU available)"
      ]
    },
    {
      "cell_type": "markdown",
      "metadata": {
        "id": "KGJRwzqHob4o"
      },
      "source": [
        "## **Task 2. Modeling Approach**\n",
        "Explain your modeling approach, i.e. ideas you tried and why you thought they would be helpful.\n",
        "\n",
        "1. How did these decisions guide you in modeling?\n",
        "1. How do you evaluate the effectiveness of these elements?\n",
        "1. What else have you tried that worked or didn't?"
      ]
    },
    {
      "cell_type": "markdown",
      "metadata": {
        "id": "zi6ZjgtWnb58"
      },
      "source": [
        "**Student's answer:**\n",
        "\n",
        "It was decided to use the SBERT which is a Python framework for state-of-the-art sentence, text and image embeddings. It uses the BERT model combined with a siamese network which is a type of network architecture that contains two or more identical subnetworks used to generate feature vectors for each input and compare them. The version \"paraphrase-MiniLM-L6-v2\" was chosen.\n",
        "There were also attempts to implement SBERT('all-mpnet-base-v2') which provided with 0.98 score but was extremely slow and SBERT('all-MiniLM-L6-v2') with the score of 0.965.\n",
        "The train and test samples were divided into 95% and 5% from the given data respectively. It was done after seeing the idea of increasing the train set size.\n",
        "For classification the Linear Support Vector classifier was chosen. You can see the parameters provided to it in the code.\n",
        "There was also an attempt to use GridSearch and thus we chose an RBF kernel and C=2 with a 'scale' gamma."
      ]
    },
    {
      "cell_type": "markdown",
      "metadata": {
        "id": "r-w7CLJeJAZC"
      },
      "source": [
        "[SBERT](https://www.sbert.net) generates 384-dimensional text embedding vectors for each text entry. See [more models](https://www.sbert.net/docs/pretrained_models.html).\n",
        "* Only reputable publicly available embedding models are allowed (SBERT, USE, MUSE, LASER, ...). We want to prevent participants' training embeddings on test data."
      ]
    },
    {
      "cell_type": "code",
      "execution_count": null,
      "metadata": {
        "id": "bWM_kH1PKGwv"
      },
      "outputs": [],
      "source": [
        "from sklearn.feature_extraction.text import CountVectorizer\n",
        "from sklearn.preprocessing import StandardScaler\n",
        "from scipy.sparse import coo_matrix\n",
        "from sklearn.feature_extraction.text import TfidfVectorizer\n",
        "from scipy.sparse import hstack\n",
        "from sklearn.svm import SVC\n",
        "from sklearn.metrics import accuracy_score"
      ]
    },
    {
      "cell_type": "code",
      "execution_count": null,
      "metadata": {
        "colab": {
          "base_uri": "https://localhost:8080/",
          "height": 48
        },
        "id": "NI17-94TuyRp",
        "outputId": "125d0c17-1c4c-4fa6-b844-b120fac2d1d8"
      },
      "outputs": [
        {
          "output_type": "execute_result",
          "data": {
            "text/plain": [
              "\"Google's model works really well\""
            ],
            "application/vnd.google.colaboratory.intrinsic+json": {
              "type": "string"
            }
          },
          "metadata": {},
          "execution_count": 44
        },
        {
          "output_type": "stream",
          "name": "stdout",
          "text": [
            "Runtime is 37 sec\n"
          ]
        }
      ],
      "source": [
        "# data_slice = tYX.head(20000)\n",
        "\n",
        "'''Google's model works really well'''\n",
        "# tYXn = tYX.head(2000)\n",
        "\n",
        "# import tensorflow_hub as hub\n",
        "# !pip3 install tensorflow_text>=2.0.0rc0\n",
        "# import numpy as np\n",
        "# import tensorflow_text\n",
        "# embed = hub.load(\"https://www.kaggle.com/models/google/universal-sentence-encoder/frameworks/TensorFlow2/variations/multilingual/versions/2\")\n",
        "# import numpy as np\n",
        "# # Function to split DNA sequences into chunks\n",
        "\n",
        "def split_string(s, length):\n",
        "    return [s[i:i+length] for i in range(0, len(s), length)]\n",
        "\n",
        "def kmer_split(sequence, k_length):\n",
        "    return [sequence[i:i+k_length] for i in range(len(sequence) - k_length + 1)]\n",
        "\n",
        "def pad_chunks(chunks, desired_length, padding_value):\n",
        "    current_length = len(chunks)\n",
        "    if current_length < desired_length:\n",
        "        chunks += [padding_value] * (desired_length - current_length)\n",
        "    return chunks\n",
        "\n",
        "\n",
        "def encode_and_combine(dna_strings, chunk_length, padding_value):\n",
        "    max_chunks = max(len(split_string(dna, chunk_length)) for dna in dna_strings)\n",
        "\n",
        "    mean_embeddings = []\n",
        "    concat_embeddings = []\n",
        "    i = 0\n",
        "    for dna in dna_strings:\n",
        "        print(i / len(dna_strings))\n",
        "        i += 1\n",
        "        chunks = split_string(dna, chunk_length)\n",
        "        # Pad chunks for concatenation\n",
        "        padded_chunks = pad_chunks(chunks, max_chunks, padding_value)\n",
        "        # Encode chunks using LASER\n",
        "        chunk_embeddings = embed(chunks)\n",
        "        # Calculate mean and concatenate embeddings\n",
        "        mean_embedding = np.mean(chunk_embeddings, axis=0)\n",
        "        concat_embedding = np.concatenate(chunk_embeddings, axis=0)\n",
        "        mean_embeddings.append(mean_embedding)\n",
        "        concat_embeddings.append(concat_embedding)\n",
        "\n",
        "    return np.array(mean_embeddings), np.array(concat_embeddings)\n",
        "\n",
        "\n",
        "def encode_dna_sequences(sequences_list):\n",
        "    kmer_sequences = [' '.join(seq[i:i+3] for i in range(len(seq) - 2)) for seq in sequences_list]\n",
        "    tfidf_encoder = TfidfVectorizer()\n",
        "    encoded_vectors = tfidf_encoder.fit_transform(kmer_sequences)\n",
        "    return encoded_vectors\n",
        "\n",
        "def kmer_transform(dna_samples, k_dimensions):\n",
        "    feature_collections = []\n",
        "    for k in k_dimensions:\n",
        "        kmer_series = [' '.join(kmer_split(seq, k)) for seq in dna_samples]\n",
        "        cv = CountVectorizer()\n",
        "        kmer_matrix = cv.fit_transform(kmer_series)\n",
        "        feature_collections.append(kmer_matrix)\n",
        "    merged_features = hstack(feature_collections)\n",
        "    normalizer = StandardScaler(with_mean=False)\n",
        "    return normalizer.fit_transform(merged_features)\n",
        "\n",
        "k_dimensions = [4]\n",
        "\n",
        "# temb2 = kmer_transform(tYX.head(20000)['DNA'], k_dimensions)\n",
        "# vemb2 = kmer_transform(vX['DNA'], k_dimensions)\n",
        "\n",
        "temb1 = encode_dna_sequences(tYX.head(100000)['DNA'])\n",
        "vemb1 = encode_dna_sequences(vX['DNA'])\n",
        "\n",
        "# temb3 = kmer_transform(tYX.head(20000)['DNA'], k_dimensions)\n",
        "# vemb3 = kmer_transform(vX['DNA'], k_dimensions)\n",
        "\n",
        "# chunk_length = 100  # Adjust as per LASER's token limit\n",
        "# padding_value = '_' * chunk_length  # Replace with appropriate padding\n",
        "# # Replace with your actual data\n",
        "# # tMeanEmb2, tConcatEmb = encode_and_combine(tYXn.DNA, chunk_length, padding_value)\n",
        "# # vMeanEmb2, vConcatEmb = encode_and_combine(vX.DNA, chunk_length, padding_value)\n",
        "\n",
        "tmr.ShowTime()"
      ]
    },
    {
      "cell_type": "code",
      "execution_count": null,
      "metadata": {
        "colab": {
          "base_uri": "https://localhost:8080/"
        },
        "id": "gW46HMAIN45A",
        "outputId": "da756cd1-c38c-46c8-d6cc-83b156f638dc"
      },
      "outputs": [
        {
          "output_type": "execute_result",
          "data": {
            "text/plain": [
              "(100000, 64)"
            ]
          },
          "metadata": {},
          "execution_count": 45
        }
      ],
      "source": [
        "temb1.shape\n",
        "# temb2.shape"
      ]
    },
    {
      "cell_type": "code",
      "execution_count": null,
      "metadata": {
        "colab": {
          "base_uri": "https://localhost:8080/",
          "height": 123
        },
        "id": "4E1Qcn1-n_wp",
        "outputId": "ffd45f54-38a5-47a9-a544-d62bcb848d85"
      },
      "outputs": [
        {
          "output_type": "stream",
          "name": "stdout",
          "text": [
            "Runtime is 37 sec\n"
          ]
        },
        {
          "output_type": "execute_result",
          "data": {
            "text/plain": [
              "'Unfortunately had to comment this out bcz it took too long ;( '"
            ],
            "application/vnd.google.colaboratory.intrinsic+json": {
              "type": "string"
            }
          },
          "metadata": {},
          "execution_count": 46
        },
        {
          "output_type": "execute_result",
          "data": {
            "text/plain": [
              "SVC(C=2, random_state=1)"
            ],
            "text/html": [
              "<style>#sk-container-id-4 {color: black;background-color: white;}#sk-container-id-4 pre{padding: 0;}#sk-container-id-4 div.sk-toggleable {background-color: white;}#sk-container-id-4 label.sk-toggleable__label {cursor: pointer;display: block;width: 100%;margin-bottom: 0;padding: 0.3em;box-sizing: border-box;text-align: center;}#sk-container-id-4 label.sk-toggleable__label-arrow:before {content: \"▸\";float: left;margin-right: 0.25em;color: #696969;}#sk-container-id-4 label.sk-toggleable__label-arrow:hover:before {color: black;}#sk-container-id-4 div.sk-estimator:hover label.sk-toggleable__label-arrow:before {color: black;}#sk-container-id-4 div.sk-toggleable__content {max-height: 0;max-width: 0;overflow: hidden;text-align: left;background-color: #f0f8ff;}#sk-container-id-4 div.sk-toggleable__content pre {margin: 0.2em;color: black;border-radius: 0.25em;background-color: #f0f8ff;}#sk-container-id-4 input.sk-toggleable__control:checked~div.sk-toggleable__content {max-height: 200px;max-width: 100%;overflow: auto;}#sk-container-id-4 input.sk-toggleable__control:checked~label.sk-toggleable__label-arrow:before {content: \"▾\";}#sk-container-id-4 div.sk-estimator input.sk-toggleable__control:checked~label.sk-toggleable__label {background-color: #d4ebff;}#sk-container-id-4 div.sk-label input.sk-toggleable__control:checked~label.sk-toggleable__label {background-color: #d4ebff;}#sk-container-id-4 input.sk-hidden--visually {border: 0;clip: rect(1px 1px 1px 1px);clip: rect(1px, 1px, 1px, 1px);height: 1px;margin: -1px;overflow: hidden;padding: 0;position: absolute;width: 1px;}#sk-container-id-4 div.sk-estimator {font-family: monospace;background-color: #f0f8ff;border: 1px dotted black;border-radius: 0.25em;box-sizing: border-box;margin-bottom: 0.5em;}#sk-container-id-4 div.sk-estimator:hover {background-color: #d4ebff;}#sk-container-id-4 div.sk-parallel-item::after {content: \"\";width: 100%;border-bottom: 1px solid gray;flex-grow: 1;}#sk-container-id-4 div.sk-label:hover label.sk-toggleable__label {background-color: #d4ebff;}#sk-container-id-4 div.sk-serial::before {content: \"\";position: absolute;border-left: 1px solid gray;box-sizing: border-box;top: 0;bottom: 0;left: 50%;z-index: 0;}#sk-container-id-4 div.sk-serial {display: flex;flex-direction: column;align-items: center;background-color: white;padding-right: 0.2em;padding-left: 0.2em;position: relative;}#sk-container-id-4 div.sk-item {position: relative;z-index: 1;}#sk-container-id-4 div.sk-parallel {display: flex;align-items: stretch;justify-content: center;background-color: white;position: relative;}#sk-container-id-4 div.sk-item::before, #sk-container-id-4 div.sk-parallel-item::before {content: \"\";position: absolute;border-left: 1px solid gray;box-sizing: border-box;top: 0;bottom: 0;left: 50%;z-index: -1;}#sk-container-id-4 div.sk-parallel-item {display: flex;flex-direction: column;z-index: 1;position: relative;background-color: white;}#sk-container-id-4 div.sk-parallel-item:first-child::after {align-self: flex-end;width: 50%;}#sk-container-id-4 div.sk-parallel-item:last-child::after {align-self: flex-start;width: 50%;}#sk-container-id-4 div.sk-parallel-item:only-child::after {width: 0;}#sk-container-id-4 div.sk-dashed-wrapped {border: 1px dashed gray;margin: 0 0.4em 0.5em 0.4em;box-sizing: border-box;padding-bottom: 0.4em;background-color: white;}#sk-container-id-4 div.sk-label label {font-family: monospace;font-weight: bold;display: inline-block;line-height: 1.2em;}#sk-container-id-4 div.sk-label-container {text-align: center;}#sk-container-id-4 div.sk-container {/* jupyter's `normalize.less` sets `[hidden] { display: none; }` but bootstrap.min.css set `[hidden] { display: none !important; }` so we also need the `!important` here to be able to override the default hidden behavior on the sphinx rendered scikit-learn.org. See: https://github.com/scikit-learn/scikit-learn/issues/21755 */display: inline-block !important;position: relative;}#sk-container-id-4 div.sk-text-repr-fallback {display: none;}</style><div id=\"sk-container-id-4\" class=\"sk-top-container\"><div class=\"sk-text-repr-fallback\"><pre>SVC(C=2, random_state=1)</pre><b>In a Jupyter environment, please rerun this cell to show the HTML representation or trust the notebook. <br />On GitHub, the HTML representation is unable to render, please try loading this page with nbviewer.org.</b></div><div class=\"sk-container\" hidden><div class=\"sk-item\"><div class=\"sk-estimator sk-toggleable\"><input class=\"sk-toggleable__control sk-hidden--visually\" id=\"sk-estimator-id-4\" type=\"checkbox\" checked><label for=\"sk-estimator-id-4\" class=\"sk-toggleable__label sk-toggleable__label-arrow\">SVC</label><div class=\"sk-toggleable__content\"><pre>SVC(C=2, random_state=1)</pre></div></div></div></div></div>"
            ]
          },
          "metadata": {},
          "execution_count": 46
        },
        {
          "output_type": "stream",
          "name": "stdout",
          "text": [
            "Runtime is 170 sec\n",
            "Runtime is 185 sec\n"
          ]
        }
      ],
      "source": [
        "tmr.ShowTime()\n",
        "x_train_tEmb1, x_test_tEmb1, y_train, y_test = train_test_split(temb1, tYX.Y, random_state=21, train_size=0.7)\n",
        "'''Unfortunately had to comment this out bcz it took too long ;( '''\n",
        "# x_train_tEmb2, x_test_tEmb2, y_train2, y_test2 = train_test_split(temb2, tYX.Y.head(20000), random_state=21, train_size=0.99)\n",
        "# x_train_tEmb3, x_test_tEmb3, y_train3, y_test3 = train_test_split(temb3, tYX.Y.tail(20000), random_state=21, train_size=0.99)\n",
        "\n",
        "svc_model1 = SVC(random_state=1, C=2, gamma='scale', kernel='rbf')\n",
        "svc_model1.fit(x_train_tEmb1, y_train)\n",
        "# predictions1 = svc_model1.predict(x_test_tEmb1)\n",
        "# accuracy1 = accuracy_score(y_test, predictions1)\n",
        "tmr.ShowTime()\n",
        "\n",
        "# svc_model2 = SVC(random_state=1)\n",
        "# svc_model2.fit(x_train_tEmb2, y_train2)\n",
        "# # predictions2 = svc_model2.predict(x_test_tEmb2)\n",
        "# # accuracy2 = accuracy_score(y_test2, predictions2)\n",
        "# tmr.ShowTime()\n",
        "\n",
        "# svc_model3 = SVC(random_state=1)\n",
        "# svc_model3.fit(x_train_tEmb3, y_train3)\n",
        "# # predictions3 = svc_model2.predict(x_test_tEmb3)\n",
        "# # accuracy3 = accuracy_score(y_test3, predictions3)\n",
        "# tmr.ShowTime()\n",
        "\n",
        "# # print(\"Accuracy of first model:\", accuracy1)\n",
        "# # print(\"Accuracy of second model:\", accuracy2)\n",
        "# # print(\"Accuracy of second model:\", accuracy3)\n",
        "# pred1 = svc_model1.predict(vemb1)\n",
        "# pred2 = svc_model2.predict(vemb2)\n",
        "# pred3 = svc_model3.predict(vemb3)\n",
        "\n",
        "# import numpy as np\n",
        "# from scipy.stats import mode\n",
        "\n",
        "# combined_predictions = np.column_stack((pred1, pred2, pred3))\n",
        "# final_predictions, _ = mode(combined_predictions, axis=1)\n",
        "# final_predictions = final_predictions.flatten()\n",
        "\n",
        "\n",
        "# pY = pd.DataFrame(final_predictions, index=vX.index, columns=['y'])   # predicted targets\n",
        "# ToCSV((pY>0.5)*1, 'MySubmission_1')\n",
        "# # pY = pd.DataFrame(svc_model2.predict(vemb2), index=vX.index, columns=['y'])   # predicted targets\n",
        "# # ToCSV((pY>0.5)*1, 'MySubmission_2')\n",
        "\n",
        "pY = pd.DataFrame(svc_model1.predict(vemb1), index=vX.index, columns=['y'])   # predicted targets\n",
        "ToCSV((pY>0.5)*1, 'MySubmission_1')\n",
        "tmr.ShowTime()"
      ]
    },
    {
      "cell_type": "code",
      "execution_count": null,
      "metadata": {
        "id": "NzYdr9dKRQPy"
      },
      "outputs": [],
      "source": [
        "# from sklearn.model_selection import GridSearchCV\n",
        "# from sklearn.svm import SVC\n",
        "\n",
        "# # Define the parameter grid to search\n",
        "# param_grid = {\n",
        "#     'C': [0.1,0.5,1,2,10],  # Example values for the regularization parameter\n",
        "#     'gamma': ['scale', 'auto'],  # Kernel coefficient\n",
        "#     'kernel': ['linear', 'rbf'],  # Types of kernels to try\n",
        "# }\n",
        "\n",
        "# # Create an SVC model instance\n",
        "# svc = SVC(random_state=7)\n",
        "\n",
        "# # Create a GridSearchCV instance with the parameter grid\n",
        "# grid_search = GridSearchCV(svc, param_grid, cv=3, scoring='accuracy', verbose=1)\n",
        "\n",
        "# # Fit the GridSearchCV instance to your data\n",
        "# grid_search.fit(temb1, tYX.Y)\n",
        "\n",
        "# # Print the best parameters and the best score obtained\n",
        "# print(\"Best Parameters:\", grid_search.best_params_)\n",
        "# print(\"Best Score:\", grid_search.best_score_)\n",
        "\n",
        "# # Evaluate on the training set (in-sample accuracy)\n",
        "# in_sample_accuracy = grid_search.score(temb1, tYX.Y)\n",
        "# print(\"In-sample Accuracy:\", in_sample_accuracy)\n"
      ]
    },
    {
      "cell_type": "markdown",
      "metadata": {
        "id": "pzBsjCvS_kEw"
      },
      "source": [
        "# **References:**"
      ]
    },
    {
      "cell_type": "markdown",
      "metadata": {
        "id": "2kr8Q-9T_nAb"
      },
      "source": [
        "Remember to cite your sources here as well! At the least, your textbook should be cited. Google Scholar allows you to effortlessly copy/paste an APA citation format for books and publications. Also cite StackOverflow, package documentation, and other meaningful internet resources to help your peers learn from these (and to avoid plagiarism claims).\n",
        "1. https://www.statlearning.com/\n",
        "2. https://www.youtube.com/results?search_query=nucleotides+genes+amino+acids+\n",
        "3. https://www.sbert.net/\n",
        "4. https://anirbansen2709.medium.com/sbert-how-to-use-sentence-embeddings-to-solve-real-world-problems-f950aa300c72"
      ]
    },
    {
      "cell_type": "markdown",
      "metadata": {
        "id": "DoF2GoB_QGw9"
      },
      "source": [
        "<font size=5>⌛</font> <strong><font color=orange size=5>Do not exceed competition's runtime limit!</font></strong>\n",
        "\n",
        "<hr color=red>\n"
      ]
    },
    {
      "cell_type": "code",
      "execution_count": null,
      "metadata": {
        "colab": {
          "base_uri": "https://localhost:8080/"
        },
        "id": "nosV1OWFJPx5",
        "outputId": "7a9c780f-25f7-498f-857a-9781daea39f1"
      },
      "outputs": [
        {
          "output_type": "stream",
          "name": "stdout",
          "text": [
            "Runtime is 185 sec\n"
          ]
        }
      ],
      "source": [
        "tmr.ShowTime()    # measure Colab's runtime. Do not remove. Keep as the last cell in your notebook."
      ]
    },
    {
      "cell_type": "markdown",
      "metadata": {
        "id": "udpl5HJ4JSLr"
      },
      "source": [
        "# 💡**Starter Ideas**"
      ]
    },
    {
      "cell_type": "markdown",
      "metadata": {
        "id": "uWllDRgiJVDJ"
      },
      "source": [
        "1. Learn about DNA [&#127910;](https://www.youtube.com/results?search_query=nucleotides+genes+amino+acids+)\n",
        "1. Try a larger training sample.\n",
        "1. Try longer training DNA strings, but SBERT may have a cap on string length, so you might split DNA into several strings and then concatenate or average resulting vectors\n",
        "1. Try other pretrained SBERT models. Note that DNA sequence uses ACGT letters, but many other models were trained on multilingual text. So, you might prefer those that were trained on mostly ASCII.\n",
        "1. SBERT is trained on word tokens (typically, separated by spaces), but DNA sequence has no spaces. Try placing spaces after every character or some semantically meaningful subsequences (this might require more domain knowledge).\n",
        "1. Try Google's [USE](https://tfhub.dev/google/universal-sentence-encoder-multilingual/3) embedding models\n",
        "1. Try Facebook's [LASER](https://github.com/facebookresearch/LASER) and [others](https://tfhub.dev/s?module-type=text-language-model).\n",
        "1. Try [Enformer](https://tfhub.dev/deepmind/enformer/1) for gene expressions. See [DeepMind paper](https://deepmind.com/blog/article/enformer).\n",
        "1. Try building your own embeddings on the given sequences. SBERT and other packages make it easy (just a few lines), but it may take too much time.\n",
        "1. Assess distribution of character patterns (single, doubles, triplets, ...). For example, an ACGT string generates AC, CG, GT doubles and ACG and CGT triplets. Does one class have more subsequences of some type? This might be a feature in your model.\n",
        "1. Try features built as counts of subsequences (singles, doubles, triplets, ...). Consider EDA first.\n",
        "1. Concatenate or otherwise combine multiple embeddings derived from each gene string\n",
        "1. Learn from [*The genetic code*](https://www.khanacademy.org/science/ap-biology/gene-expression-and-regulation/translation/a/the-genetic-code-discovery-and-properties), Khan Academy.\n",
        "1. Learn from [*Apply Machine Learning Algorithms for Genomics Data Classification*](https://medium.com/mlearning-ai/apply-machine-learning-algorithms-for-genomics-data-classification-132972933723)\n",
        "1. Learn from [*Efficient counting of k-mers in DNA sequences using a bloom filter*](https://bmcbioinformatics.biomedcentral.com/articles/10.1186/1471-2105-12-333) Páll Melsted et al. 2011\n",
        "1. Try [Byte Pair Encoding](https://www.derczynski.com/papers/archive/BPE_Gage.pdf) and [SentencePiece](https://arxiv.org/pdf/1808.06226.pdf) to auto identification of \"important\" [k-mers](https://en.wikipedia.org/wiki/K-mer) (substrings)"
      ]
    }
  ],
  "metadata": {
    "accelerator": "GPU",
    "colab": {
      "provenance": []
    },
    "kernelspec": {
      "display_name": "Python 3",
      "name": "python3"
    },
    "language_info": {
      "name": "python"
    }
  },
  "nbformat": 4,
  "nbformat_minor": 0
}